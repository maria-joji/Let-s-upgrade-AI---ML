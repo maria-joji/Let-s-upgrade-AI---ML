{
 "cells": [
  {
   "cell_type": "raw",
   "metadata": {},
   "source": [
    "1) A Python program to find the first 20 non-even prime natural numbers."
   ]
  },
  {
   "cell_type": "code",
   "execution_count": 11,
   "metadata": {},
   "outputs": [
    {
     "name": "stdout",
     "output_type": "stream",
     "text": [
      "3 ,5 ,7 ,11 ,13 ,17 ,19 ,23 ,29 ,31 ,37 ,41 ,43 ,47 ,53 ,59 ,61 ,67 ,71 ,73 ,"
     ]
    }
   ],
   "source": [
    "start = 3\n",
    "end = 75\n",
    "for val in range(start, end + 1): \n",
    "    if val > 1: \n",
    "        for n in range(2, val//2 + 2): \n",
    "            if (val % n) == 0: \n",
    "                break\n",
    "            else: \n",
    "                if n == val//2 + 1: \n",
    "                    print(val,end=' '\",\") "
   ]
  },
  {
   "cell_type": "raw",
   "metadata": {},
   "source": [
    "2) A python program to implement 15 functions of string."
   ]
  },
  {
   "cell_type": "code",
   "execution_count": 21,
   "metadata": {},
   "outputs": [
    {
     "name": "stdout",
     "output_type": "stream",
     "text": [
      "o\n",
      "u\n",
      "ello\n",
      ",nic\n",
      "nice to see u\n",
      "hello world\n",
      "hello world,nice to see u\n",
      "HELLO WORLD\n",
      "hello world\n",
      "HELLO WORLD\n",
      "False\n",
      "hezzo worzd\n",
      "11\n",
      "7\n",
      "False\n",
      "False\n",
      "hello world\n",
      "False\n"
     ]
    }
   ],
   "source": [
    "s1 = \"hello world\"\n",
    "s2 = \",nice to see u\"\n",
    "print(s1[4]) #forward indexing\n",
    "print(s2[-1])#backward indexing\n",
    "print(s1[1:5])\n",
    "print(s2[:4])\n",
    "print(s2[1:])\n",
    "print(s1[:])\n",
    "print(s1+s2)\n",
    "print(s1.swapcase())\n",
    "print(s1.lower())\n",
    "print(s1.upper())\n",
    "print(s1.isalpha())\n",
    "print(s1.replace('l','z'))\n",
    "print(len(s1))\n",
    "print(s1.find('o',5))\n",
    "print(s1.isalnum())\n",
    "print(s2.isspace())\n",
    "print(s1.lstrip('de o'))\n",
    "print(s2.isnumeric())\n",
    "\n"
   ]
  },
  {
   "cell_type": "raw",
   "metadata": {},
   "source": [
    "3) A Python program to check if the given string is a Palindrome or Anagram or None of them.\n"
   ]
  },
  {
   "cell_type": "code",
   "execution_count": 1,
   "metadata": {},
   "outputs": [
    {
     "name": "stdout",
     "output_type": "stream",
     "text": [
      "enter first stringlisten\n",
      "enter second stringsilent\n",
      "False False the given strings are palindromes\n",
      "The strings are anagrams.\n"
     ]
    }
   ],
   "source": [
    "def check(s1, s2):\n",
    "    if(sorted(s1)== sorted(s2)):\n",
    "        print(\"The strings are anagrams.\")\n",
    "s1 = input(\"enter first string\")\n",
    "s2 = input(\"enter second string\")\n",
    "print(s1 == s1[::-1],s2 == s2[::-1],\"the given strings are palindromes\")\n",
    "check(s1,s2)\n"
   ]
  },
  {
   "cell_type": "raw",
   "metadata": {},
   "source": [
    "4) A Python's user defined function that removes all the additional characters from the string\n",
    "and converts it finally to lower case using built-in lower()."
   ]
  },
  {
   "cell_type": "code",
   "execution_count": 1,
   "metadata": {},
   "outputs": [
    {
     "name": "stdout",
     "output_type": "stream",
     "text": [
      "greek\n"
     ]
    }
   ],
   "source": [
    "def remove(string): \n",
    "    return string.replace(\" \", \"\")\n",
    "   \n",
    "      \n",
    "\n",
    "string = ' G R E E K '\n",
    "remove(string)\n",
    "print(remove(string).lower())\n"
   ]
  },
  {
   "cell_type": "code",
   "execution_count": null,
   "metadata": {},
   "outputs": [],
   "source": []
  }
 ],
 "metadata": {
  "kernelspec": {
   "display_name": "Python 3",
   "language": "python",
   "name": "python3"
  },
  "language_info": {
   "codemirror_mode": {
    "name": "ipython",
    "version": 3
   },
   "file_extension": ".py",
   "mimetype": "text/x-python",
   "name": "python",
   "nbconvert_exporter": "python",
   "pygments_lexer": "ipython3",
   "version": "3.7.6"
  }
 },
 "nbformat": 4,
 "nbformat_minor": 4
}
