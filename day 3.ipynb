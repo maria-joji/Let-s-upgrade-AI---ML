{
 "cells": [
  {
   "cell_type": "raw",
   "metadata": {},
   "source": [
    "1) A program to subtract two complex numbers."
   ]
  },
  {
   "cell_type": "code",
   "execution_count": 8,
   "metadata": {},
   "outputs": [
    {
     "data": {
      "text/plain": [
       "(-2-3j)"
      ]
     },
     "execution_count": 8,
     "metadata": {},
     "output_type": "execute_result"
    }
   ],
   "source": [
    "a = 1+2j\n",
    "b = 3+5j\n",
    "c = a-b\n",
    "c"
   ]
  },
  {
   "cell_type": "raw",
   "metadata": {},
   "source": [
    "2) A program to find the fourth root of a number."
   ]
  },
  {
   "cell_type": "code",
   "execution_count": 6,
   "metadata": {},
   "outputs": [
    {
     "data": {
      "text/plain": [
       "2.0"
      ]
     },
     "execution_count": 6,
     "metadata": {},
     "output_type": "execute_result"
    }
   ],
   "source": [
    "a = 16\n",
    "b = a**0.25\n",
    "b"
   ]
  },
  {
   "cell_type": "raw",
   "metadata": {},
   "source": [
    "3) A program to swap two numbers with the help of a temporary variable."
   ]
  },
  {
   "cell_type": "code",
   "execution_count": 9,
   "metadata": {},
   "outputs": [
    {
     "name": "stdout",
     "output_type": "stream",
     "text": [
      "the value of e after swapping: 3\n",
      "the value of f after swapping: 2\n"
     ]
    }
   ],
   "source": [
    "e = 2\n",
    "f = 3\n",
    "value = e\n",
    "e = f\n",
    "f = value\n",
    "print(\"the value of e after swapping:\",e)\n",
    "print(\"the value of f after swapping:\",f)"
   ]
  },
  {
   "cell_type": "raw",
   "metadata": {},
   "source": [
    "4) A program to swap two numbers without using a temporary variable."
   ]
  },
  {
   "cell_type": "code",
   "execution_count": 11,
   "metadata": {},
   "outputs": [
    {
     "name": "stdout",
     "output_type": "stream",
     "text": [
      "the value of e after swapping: 3\n",
      "the value of f after swapping: 2\n"
     ]
    }
   ],
   "source": [
    "e = 2\n",
    "f = 3\n",
    "e,f = f,e\n",
    "print(\"the value of e after swapping:\",e)\n",
    "print(\"the value of f after swapping:\",f)"
   ]
  },
  {
   "cell_type": "raw",
   "metadata": {},
   "source": [
    "5) A program to convert fahrenheit to kelvin and celsius."
   ]
  },
  {
   "cell_type": "code",
   "execution_count": 15,
   "metadata": {},
   "outputs": [
    {
     "name": "stdout",
     "output_type": "stream",
     "text": [
      "75F in Kelvin= 297.00918500000006 K and 75F in Celsius= 23.886499999999998 C\n"
     ]
    }
   ],
   "source": [
    "TF = 75 # in Fahrenheit\n",
    "TK = (TF + 459.67)*0.5555 # Fahrenheit to Kelvin formula\n",
    "TC = (TF-32)*0.5555 # Fahrenheit to Celsius formula\n",
    "print(\"75F in Kelvin=\",TK,\"K and 75F in Celsius=\",TC,\"C\")"
   ]
  },
  {
   "cell_type": "raw",
   "metadata": {},
   "source": [
    "6) A program to demonstrate all the available datatypes in python."
   ]
  },
  {
   "cell_type": "code",
   "execution_count": 4,
   "metadata": {},
   "outputs": [
    {
     "name": "stdout",
     "output_type": "stream",
     "text": [
      "<class 'int'>\n",
      "<class 'float'>\n",
      "<class 'complex'>\n",
      "<class 'tuple'>\n",
      "<class 'str'>\n"
     ]
    }
   ],
   "source": [
    "a = 6\n",
    "b = 2.55\n",
    "c = 3+7j\n",
    "d = 1,00,000\n",
    "e = \"A letter\"\n",
    "print(type(a))\n",
    "print(type(b))\n",
    "print(type(c))\n",
    "print(type(d))\n",
    "print(type(e))"
   ]
  },
  {
   "cell_type": "raw",
   "metadata": {},
   "source": [
    "7) Create a Markdown cell in jupiter and list the steps to create a github profile and uploading of githubs assignment link \n",
    "as discussed by Dr.Darshan Ingle sir in the Day 3 session."
   ]
  },
  {
   "cell_type": "markdown",
   "metadata": {},
   "source": [
    "# To Create a GITHUB PROFILE\n"
   ]
  },
  {
   "cell_type": "markdown",
   "metadata": {},
   "source": [
    "1. If you are a beginner,Go to https://github.com/join\n",
    "2. Type username, your email address, and a password\n",
    "3. Choose Sign up for GitHub, and then follow the instructions and do verify your email address inorder to create a new repository.\n",
    "4. If you already have an account ,just signin.Then from your github account click <font color=green>new</font>Give  repositoy name as LetsUpgrade AI-ML and make it public.\n",
    "5. you can give any name in the description option ,here you can give as \"ASSIGNMENTS\".And then click create repository.\n",
    "6. Then a folder would be created in the name of LetsUgrade AI-ML in the repository section where you have to upload your respective day assignments specifying the day.\n",
    "7. you have to drag the assignments from your files to this github repository.\n",
    "\n"
   ]
  },
  {
   "cell_type": "markdown",
   "metadata": {},
   "source": [
    "__To Upload Github Assignment link__"
   ]
  },
  {
   "cell_type": "markdown",
   "metadata": {},
   "source": [
    "1. Copy the URL part at the above of your github repository\n",
    "2. And paste it in the assignment link given after filling your personal details in the link and submit.\n",
    "3. you will receive an email if you have uploaded your assignment successfully."
   ]
  },
  {
   "cell_type": "code",
   "execution_count": null,
   "metadata": {},
   "outputs": [],
   "source": []
  }
 ],
 "metadata": {
  "kernelspec": {
   "display_name": "Python 3",
   "language": "python",
   "name": "python3"
  },
  "language_info": {
   "codemirror_mode": {
    "name": "ipython",
    "version": 3
   },
   "file_extension": ".py",
   "mimetype": "text/x-python",
   "name": "python",
   "nbconvert_exporter": "python",
   "pygments_lexer": "ipython3",
   "version": "3.7.6"
  }
 },
 "nbformat": 4,
 "nbformat_minor": 4
}
