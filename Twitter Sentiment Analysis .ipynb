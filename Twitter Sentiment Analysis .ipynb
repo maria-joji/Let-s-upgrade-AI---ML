{
 "cells": [
  {
   "cell_type": "code",
   "execution_count": 1,
   "metadata": {},
   "outputs": [
    {
     "name": "stdout",
     "output_type": "stream",
     "text": [
      "Collecting tweepy\n",
      "  Downloading tweepy-3.9.0-py2.py3-none-any.whl (30 kB)\n",
      "Collecting requests-oauthlib>=0.7.0\n",
      "  Downloading requests_oauthlib-1.3.0-py2.py3-none-any.whl (23 kB)\n",
      "Requirement already satisfied: six>=1.10.0 in c:\\users\\user\\anaconda3\\lib\\site-packages (from tweepy) (1.14.0)\n",
      "Requirement already satisfied: requests[socks]>=2.11.1 in c:\\users\\user\\anaconda3\\lib\\site-packages (from tweepy) (2.22.0)\n",
      "Collecting oauthlib>=3.0.0\n",
      "  Downloading oauthlib-3.1.0-py2.py3-none-any.whl (147 kB)\n",
      "Requirement already satisfied: idna<2.9,>=2.5 in c:\\users\\user\\anaconda3\\lib\\site-packages (from requests[socks]>=2.11.1->tweepy) (2.8)\n",
      "Requirement already satisfied: certifi>=2017.4.17 in c:\\users\\user\\anaconda3\\lib\\site-packages (from requests[socks]>=2.11.1->tweepy) (2019.11.28)\n",
      "Requirement already satisfied: urllib3!=1.25.0,!=1.25.1,<1.26,>=1.21.1 in c:\\users\\user\\anaconda3\\lib\\site-packages (from requests[socks]>=2.11.1->tweepy) (1.25.8)\n",
      "Requirement already satisfied: chardet<3.1.0,>=3.0.2 in c:\\users\\user\\anaconda3\\lib\\site-packages (from requests[socks]>=2.11.1->tweepy) (3.0.4)\n",
      "Requirement already satisfied: PySocks!=1.5.7,>=1.5.6; extra == \"socks\" in c:\\users\\user\\anaconda3\\lib\\site-packages (from requests[socks]>=2.11.1->tweepy) (1.7.1)\n",
      "Installing collected packages: oauthlib, requests-oauthlib, tweepy\n",
      "Successfully installed oauthlib-3.1.0 requests-oauthlib-1.3.0 tweepy-3.9.0\n"
     ]
    }
   ],
   "source": [
    "!pip install tweepy"
   ]
  },
  {
   "cell_type": "code",
   "execution_count": 2,
   "metadata": {},
   "outputs": [
    {
     "name": "stdout",
     "output_type": "stream",
     "text": [
      "Requirement already satisfied: openpyxl in c:\\users\\user\\anaconda3\\lib\\site-packages (3.0.3)\n",
      "Requirement already satisfied: jdcal in c:\\users\\user\\anaconda3\\lib\\site-packages (from openpyxl) (1.4.1)\n",
      "Requirement already satisfied: et-xmlfile in c:\\users\\user\\anaconda3\\lib\\site-packages (from openpyxl) (1.0.1)\n"
     ]
    }
   ],
   "source": [
    "!pip install openpyxl"
   ]
  },
  {
   "cell_type": "code",
   "execution_count": 3,
   "metadata": {},
   "outputs": [],
   "source": [
    "import numpy as np\n",
    "import pandas as pd\n",
    "import tweepy\n",
    "import json\n",
    "from tweepy import OAuthHandler"
   ]
  },
  {
   "cell_type": "code",
   "execution_count": 4,
   "metadata": {},
   "outputs": [],
   "source": [
    "consumer_key = \"LzsCOl12ZZ79FObx7BV9a1R3a\"\n",
    "consumer_secret = \"gODxZ1kHJHDGgYfyP12AUN37UTlDd6yn3OsSV9Tl0iwu0K0cRY\"\n",
    "access_token = \"296102538-kYIK8SULCmRK4vgvYD2DhKbwvSXrgTdTkWh0Nvsp\"\n",
    "access_token_secret = \"Ib9obwgcE5tZk4S6tY5rAqI5iXOeJc9FGFg28qHoa4YpP\""
   ]
  },
  {
   "cell_type": "code",
   "execution_count": 5,
   "metadata": {},
   "outputs": [],
   "source": [
    "auth = tweepy.OAuthHandler( consumer_key , consumer_secret )\n",
    "auth.set_access_token( access_token , access_token_secret )\n",
    "api = tweepy.API(auth)"
   ]
  },
  {
   "cell_type": "code",
   "execution_count": 6,
   "metadata": {},
   "outputs": [],
   "source": [
    "query = \"RCB winning IPL\""
   ]
  },
  {
   "cell_type": "code",
   "execution_count": 7,
   "metadata": {},
   "outputs": [
    {
     "name": "stdout",
     "output_type": "stream",
     "text": [
      "Status(_api=<tweepy.api.API object at 0x000002044AECAF88>, _json={'created_at': 'Thu Nov 26 13:36:33 +0000 2020', 'id': 1331955000734486529, 'id_str': '1331955000734486529', 'full_text': '@rajasthanroyals @JofraArcher Congratulations AB for winning man of the match and RCB for thier first IPL title!🥺', 'truncated': False, 'display_text_range': [30, 113], 'entities': {'hashtags': [], 'symbols': [], 'user_mentions': [{'screen_name': 'rajasthanroyals', 'name': 'Rajasthan Royals', 'id': 17082958, 'id_str': '17082958', 'indices': [0, 16]}, {'screen_name': 'JofraArcher', 'name': 'Jofra Archer', 'id': 290153781, 'id_str': '290153781', 'indices': [17, 29]}], 'urls': []}, 'metadata': {'iso_language_code': 'en', 'result_type': 'recent'}, 'source': '<a href=\"http://twitter.com/download/android\" rel=\"nofollow\">Twitter for Android</a>', 'in_reply_to_status_id': 1331946568421838849, 'in_reply_to_status_id_str': '1331946568421838849', 'in_reply_to_user_id': 17082958, 'in_reply_to_user_id_str': '17082958', 'in_reply_to_screen_name': 'rajasthanroyals', 'user': {'id': 933243417621970945, 'id_str': '933243417621970945', 'name': 'Jindal', 'screen_name': 'Jindalbell', 'location': 'India', 'description': 'Let me take my skate shoes, first!', 'url': 'https://t.co/PfNlmb7tqo', 'entities': {'url': {'urls': [{'url': 'https://t.co/PfNlmb7tqo', 'expanded_url': 'https://jindalchaudhari.wordpress.com/', 'display_url': 'jindalchaudhari.wordpress.com', 'indices': [0, 23]}]}, 'description': {'urls': []}}, 'protected': False, 'followers_count': 13, 'friends_count': 144, 'listed_count': 0, 'created_at': 'Wed Nov 22 07:59:04 +0000 2017', 'favourites_count': 2442, 'utc_offset': None, 'time_zone': None, 'geo_enabled': False, 'verified': False, 'statuses_count': 56, 'lang': None, 'contributors_enabled': False, 'is_translator': False, 'is_translation_enabled': False, 'profile_background_color': 'F5F8FA', 'profile_background_image_url': None, 'profile_background_image_url_https': None, 'profile_background_tile': False, 'profile_image_url': 'http://pbs.twimg.com/profile_images/1329821049383317505/erqf-m8Y_normal.jpg', 'profile_image_url_https': 'https://pbs.twimg.com/profile_images/1329821049383317505/erqf-m8Y_normal.jpg', 'profile_banner_url': 'https://pbs.twimg.com/profile_banners/933243417621970945/1605937858', 'profile_link_color': '1DA1F2', 'profile_sidebar_border_color': 'C0DEED', 'profile_sidebar_fill_color': 'DDEEF6', 'profile_text_color': '333333', 'profile_use_background_image': True, 'has_extended_profile': True, 'default_profile': True, 'default_profile_image': False, 'following': False, 'follow_request_sent': False, 'notifications': False, 'translator_type': 'none'}, 'geo': None, 'coordinates': None, 'place': None, 'contributors': None, 'is_quote_status': False, 'retweet_count': 0, 'favorite_count': 2, 'favorited': False, 'retweeted': False, 'lang': 'en'}, created_at=datetime.datetime(2020, 11, 26, 13, 36, 33), id=1331955000734486529, id_str='1331955000734486529', full_text='@rajasthanroyals @JofraArcher Congratulations AB for winning man of the match and RCB for thier first IPL title!🥺', truncated=False, display_text_range=[30, 113], entities={'hashtags': [], 'symbols': [], 'user_mentions': [{'screen_name': 'rajasthanroyals', 'name': 'Rajasthan Royals', 'id': 17082958, 'id_str': '17082958', 'indices': [0, 16]}, {'screen_name': 'JofraArcher', 'name': 'Jofra Archer', 'id': 290153781, 'id_str': '290153781', 'indices': [17, 29]}], 'urls': []}, metadata={'iso_language_code': 'en', 'result_type': 'recent'}, source='Twitter for Android', source_url='http://twitter.com/download/android', in_reply_to_status_id=1331946568421838849, in_reply_to_status_id_str='1331946568421838849', in_reply_to_user_id=17082958, in_reply_to_user_id_str='17082958', in_reply_to_screen_name='rajasthanroyals', author=User(_api=<tweepy.api.API object at 0x000002044AECAF88>, _json={'id': 933243417621970945, 'id_str': '933243417621970945', 'name': 'Jindal', 'screen_name': 'Jindalbell', 'location': 'India', 'description': 'Let me take my skate shoes, first!', 'url': 'https://t.co/PfNlmb7tqo', 'entities': {'url': {'urls': [{'url': 'https://t.co/PfNlmb7tqo', 'expanded_url': 'https://jindalchaudhari.wordpress.com/', 'display_url': 'jindalchaudhari.wordpress.com', 'indices': [0, 23]}]}, 'description': {'urls': []}}, 'protected': False, 'followers_count': 13, 'friends_count': 144, 'listed_count': 0, 'created_at': 'Wed Nov 22 07:59:04 +0000 2017', 'favourites_count': 2442, 'utc_offset': None, 'time_zone': None, 'geo_enabled': False, 'verified': False, 'statuses_count': 56, 'lang': None, 'contributors_enabled': False, 'is_translator': False, 'is_translation_enabled': False, 'profile_background_color': 'F5F8FA', 'profile_background_image_url': None, 'profile_background_image_url_https': None, 'profile_background_tile': False, 'profile_image_url': 'http://pbs.twimg.com/profile_images/1329821049383317505/erqf-m8Y_normal.jpg', 'profile_image_url_https': 'https://pbs.twimg.com/profile_images/1329821049383317505/erqf-m8Y_normal.jpg', 'profile_banner_url': 'https://pbs.twimg.com/profile_banners/933243417621970945/1605937858', 'profile_link_color': '1DA1F2', 'profile_sidebar_border_color': 'C0DEED', 'profile_sidebar_fill_color': 'DDEEF6', 'profile_text_color': '333333', 'profile_use_background_image': True, 'has_extended_profile': True, 'default_profile': True, 'default_profile_image': False, 'following': False, 'follow_request_sent': False, 'notifications': False, 'translator_type': 'none'}, id=933243417621970945, id_str='933243417621970945', name='Jindal', screen_name='Jindalbell', location='India', description='Let me take my skate shoes, first!', url='https://t.co/PfNlmb7tqo', entities={'url': {'urls': [{'url': 'https://t.co/PfNlmb7tqo', 'expanded_url': 'https://jindalchaudhari.wordpress.com/', 'display_url': 'jindalchaudhari.wordpress.com', 'indices': [0, 23]}]}, 'description': {'urls': []}}, protected=False, followers_count=13, friends_count=144, listed_count=0, created_at=datetime.datetime(2017, 11, 22, 7, 59, 4), favourites_count=2442, utc_offset=None, time_zone=None, geo_enabled=False, verified=False, statuses_count=56, lang=None, contributors_enabled=False, is_translator=False, is_translation_enabled=False, profile_background_color='F5F8FA', profile_background_image_url=None, profile_background_image_url_https=None, profile_background_tile=False, profile_image_url='http://pbs.twimg.com/profile_images/1329821049383317505/erqf-m8Y_normal.jpg', profile_image_url_https='https://pbs.twimg.com/profile_images/1329821049383317505/erqf-m8Y_normal.jpg', profile_banner_url='https://pbs.twimg.com/profile_banners/933243417621970945/1605937858', profile_link_color='1DA1F2', profile_sidebar_border_color='C0DEED', profile_sidebar_fill_color='DDEEF6', profile_text_color='333333', profile_use_background_image=True, has_extended_profile=True, default_profile=True, default_profile_image=False, following=False, follow_request_sent=False, notifications=False, translator_type='none'), user=User(_api=<tweepy.api.API object at 0x000002044AECAF88>, _json={'id': 933243417621970945, 'id_str': '933243417621970945', 'name': 'Jindal', 'screen_name': 'Jindalbell', 'location': 'India', 'description': 'Let me take my skate shoes, first!', 'url': 'https://t.co/PfNlmb7tqo', 'entities': {'url': {'urls': [{'url': 'https://t.co/PfNlmb7tqo', 'expanded_url': 'https://jindalchaudhari.wordpress.com/', 'display_url': 'jindalchaudhari.wordpress.com', 'indices': [0, 23]}]}, 'description': {'urls': []}}, 'protected': False, 'followers_count': 13, 'friends_count': 144, 'listed_count': 0, 'created_at': 'Wed Nov 22 07:59:04 +0000 2017', 'favourites_count': 2442, 'utc_offset': None, 'time_zone': None, 'geo_enabled': False, 'verified': False, 'statuses_count': 56, 'lang': None, 'contributors_enabled': False, 'is_translator': False, 'is_translation_enabled': False, 'profile_background_color': 'F5F8FA', 'profile_background_image_url': None, 'profile_background_image_url_https': None, 'profile_background_tile': False, 'profile_image_url': 'http://pbs.twimg.com/profile_images/1329821049383317505/erqf-m8Y_normal.jpg', 'profile_image_url_https': 'https://pbs.twimg.com/profile_images/1329821049383317505/erqf-m8Y_normal.jpg', 'profile_banner_url': 'https://pbs.twimg.com/profile_banners/933243417621970945/1605937858', 'profile_link_color': '1DA1F2', 'profile_sidebar_border_color': 'C0DEED', 'profile_sidebar_fill_color': 'DDEEF6', 'profile_text_color': '333333', 'profile_use_background_image': True, 'has_extended_profile': True, 'default_profile': True, 'default_profile_image': False, 'following': False, 'follow_request_sent': False, 'notifications': False, 'translator_type': 'none'}, id=933243417621970945, id_str='933243417621970945', name='Jindal', screen_name='Jindalbell', location='India', description='Let me take my skate shoes, first!', url='https://t.co/PfNlmb7tqo', entities={'url': {'urls': [{'url': 'https://t.co/PfNlmb7tqo', 'expanded_url': 'https://jindalchaudhari.wordpress.com/', 'display_url': 'jindalchaudhari.wordpress.com', 'indices': [0, 23]}]}, 'description': {'urls': []}}, protected=False, followers_count=13, friends_count=144, listed_count=0, created_at=datetime.datetime(2017, 11, 22, 7, 59, 4), favourites_count=2442, utc_offset=None, time_zone=None, geo_enabled=False, verified=False, statuses_count=56, lang=None, contributors_enabled=False, is_translator=False, is_translation_enabled=False, profile_background_color='F5F8FA', profile_background_image_url=None, profile_background_image_url_https=None, profile_background_tile=False, profile_image_url='http://pbs.twimg.com/profile_images/1329821049383317505/erqf-m8Y_normal.jpg', profile_image_url_https='https://pbs.twimg.com/profile_images/1329821049383317505/erqf-m8Y_normal.jpg', profile_banner_url='https://pbs.twimg.com/profile_banners/933243417621970945/1605937858', profile_link_color='1DA1F2', profile_sidebar_border_color='C0DEED', profile_sidebar_fill_color='DDEEF6', profile_text_color='333333', profile_use_background_image=True, has_extended_profile=True, default_profile=True, default_profile_image=False, following=False, follow_request_sent=False, notifications=False, translator_type='none'), geo=None, coordinates=None, place=None, contributors=None, is_quote_status=False, retweet_count=0, favorite_count=2, favorited=False, retweeted=False, lang='en') \n",
      "\n",
      ".....................................\n",
      "\n",
      "Status(_api=<tweepy.api.API object at 0x000002044AECAF88>, _json={'created_at': 'Thu Nov 26 13:28:04 +0000 2020', 'id': 1331952865674358785, 'id_str': '1331952865674358785', 'full_text': '@rajasthanroyals @JofraArcher Rcb winning ipl trophi-es 👀👍', 'truncated': False, 'display_text_range': [30, 58], 'entities': {'hashtags': [], 'symbols': [], 'user_mentions': [{'screen_name': 'rajasthanroyals', 'name': 'Rajasthan Royals', 'id': 17082958, 'id_str': '17082958', 'indices': [0, 16]}, {'screen_name': 'JofraArcher', 'name': 'Jofra Archer', 'id': 290153781, 'id_str': '290153781', 'indices': [17, 29]}], 'urls': []}, 'metadata': {'iso_language_code': 'en', 'result_type': 'recent'}, 'source': '<a href=\"http://twitter.com/download/android\" rel=\"nofollow\">Twitter for Android</a>', 'in_reply_to_status_id': 1331946568421838849, 'in_reply_to_status_id_str': '1331946568421838849', 'in_reply_to_user_id': 17082958, 'in_reply_to_user_id_str': '17082958', 'in_reply_to_screen_name': 'rajasthanroyals', 'user': {'id': 721267863936479233, 'id_str': '721267863936479233', 'name': 'jiya♡ // ✨', 'screen_name': 'jiya_1811', 'location': '', 'description': 'Viratian ( कोहली )❤||\\n\\nMicrobio life🔬~blogger 📝||\\n\\nNot everyone deserves the good version of you! 🤙', 'url': 'https://t.co/nioaLFGNaE', 'entities': {'url': {'urls': [{'url': 'https://t.co/nioaLFGNaE', 'expanded_url': 'https://microbiologyeducationworld.blogspot.com/', 'display_url': '…crobiologyeducationworld.blogspot.com', 'indices': [0, 23]}]}, 'description': {'urls': []}}, 'protected': False, 'followers_count': 170, 'friends_count': 450, 'listed_count': 0, 'created_at': 'Sat Apr 16 09:23:54 +0000 2016', 'favourites_count': 25397, 'utc_offset': None, 'time_zone': None, 'geo_enabled': False, 'verified': False, 'statuses_count': 7931, 'lang': None, 'contributors_enabled': False, 'is_translator': False, 'is_translation_enabled': False, 'profile_background_color': 'F5F8FA', 'profile_background_image_url': None, 'profile_background_image_url_https': None, 'profile_background_tile': False, 'profile_image_url': 'http://pbs.twimg.com/profile_images/1327671379286585346/cDe-SXek_normal.jpg', 'profile_image_url_https': 'https://pbs.twimg.com/profile_images/1327671379286585346/cDe-SXek_normal.jpg', 'profile_banner_url': 'https://pbs.twimg.com/profile_banners/721267863936479233/1604493982', 'profile_link_color': '1DA1F2', 'profile_sidebar_border_color': 'C0DEED', 'profile_sidebar_fill_color': 'DDEEF6', 'profile_text_color': '333333', 'profile_use_background_image': True, 'has_extended_profile': True, 'default_profile': True, 'default_profile_image': False, 'following': False, 'follow_request_sent': False, 'notifications': False, 'translator_type': 'none'}, 'geo': None, 'coordinates': None, 'place': None, 'contributors': None, 'is_quote_status': False, 'retweet_count': 0, 'favorite_count': 0, 'favorited': False, 'retweeted': False, 'lang': 'en'}, created_at=datetime.datetime(2020, 11, 26, 13, 28, 4), id=1331952865674358785, id_str='1331952865674358785', full_text='@rajasthanroyals @JofraArcher Rcb winning ipl trophi-es 👀👍', truncated=False, display_text_range=[30, 58], entities={'hashtags': [], 'symbols': [], 'user_mentions': [{'screen_name': 'rajasthanroyals', 'name': 'Rajasthan Royals', 'id': 17082958, 'id_str': '17082958', 'indices': [0, 16]}, {'screen_name': 'JofraArcher', 'name': 'Jofra Archer', 'id': 290153781, 'id_str': '290153781', 'indices': [17, 29]}], 'urls': []}, metadata={'iso_language_code': 'en', 'result_type': 'recent'}, source='Twitter for Android', source_url='http://twitter.com/download/android', in_reply_to_status_id=1331946568421838849, in_reply_to_status_id_str='1331946568421838849', in_reply_to_user_id=17082958, in_reply_to_user_id_str='17082958', in_reply_to_screen_name='rajasthanroyals', author=User(_api=<tweepy.api.API object at 0x000002044AECAF88>, _json={'id': 721267863936479233, 'id_str': '721267863936479233', 'name': 'jiya♡ // ✨', 'screen_name': 'jiya_1811', 'location': '', 'description': 'Viratian ( कोहली )❤||\\n\\nMicrobio life🔬~blogger 📝||\\n\\nNot everyone deserves the good version of you! 🤙', 'url': 'https://t.co/nioaLFGNaE', 'entities': {'url': {'urls': [{'url': 'https://t.co/nioaLFGNaE', 'expanded_url': 'https://microbiologyeducationworld.blogspot.com/', 'display_url': '…crobiologyeducationworld.blogspot.com', 'indices': [0, 23]}]}, 'description': {'urls': []}}, 'protected': False, 'followers_count': 170, 'friends_count': 450, 'listed_count': 0, 'created_at': 'Sat Apr 16 09:23:54 +0000 2016', 'favourites_count': 25397, 'utc_offset': None, 'time_zone': None, 'geo_enabled': False, 'verified': False, 'statuses_count': 7931, 'lang': None, 'contributors_enabled': False, 'is_translator': False, 'is_translation_enabled': False, 'profile_background_color': 'F5F8FA', 'profile_background_image_url': None, 'profile_background_image_url_https': None, 'profile_background_tile': False, 'profile_image_url': 'http://pbs.twimg.com/profile_images/1327671379286585346/cDe-SXek_normal.jpg', 'profile_image_url_https': 'https://pbs.twimg.com/profile_images/1327671379286585346/cDe-SXek_normal.jpg', 'profile_banner_url': 'https://pbs.twimg.com/profile_banners/721267863936479233/1604493982', 'profile_link_color': '1DA1F2', 'profile_sidebar_border_color': 'C0DEED', 'profile_sidebar_fill_color': 'DDEEF6', 'profile_text_color': '333333', 'profile_use_background_image': True, 'has_extended_profile': True, 'default_profile': True, 'default_profile_image': False, 'following': False, 'follow_request_sent': False, 'notifications': False, 'translator_type': 'none'}, id=721267863936479233, id_str='721267863936479233', name='jiya♡ // ✨', screen_name='jiya_1811', location='', description='Viratian ( कोहली )❤||\\n\\nMicrobio life🔬~blogger 📝||\\n\\nNot everyone deserves the good version of you! 🤙', url='https://t.co/nioaLFGNaE', entities={'url': {'urls': [{'url': 'https://t.co/nioaLFGNaE', 'expanded_url': 'https://microbiologyeducationworld.blogspot.com/', 'display_url': '…crobiologyeducationworld.blogspot.com', 'indices': [0, 23]}]}, 'description': {'urls': []}}, protected=False, followers_count=170, friends_count=450, listed_count=0, created_at=datetime.datetime(2016, 4, 16, 9, 23, 54), favourites_count=25397, utc_offset=None, time_zone=None, geo_enabled=False, verified=False, statuses_count=7931, lang=None, contributors_enabled=False, is_translator=False, is_translation_enabled=False, profile_background_color='F5F8FA', profile_background_image_url=None, profile_background_image_url_https=None, profile_background_tile=False, profile_image_url='http://pbs.twimg.com/profile_images/1327671379286585346/cDe-SXek_normal.jpg', profile_image_url_https='https://pbs.twimg.com/profile_images/1327671379286585346/cDe-SXek_normal.jpg', profile_banner_url='https://pbs.twimg.com/profile_banners/721267863936479233/1604493982', profile_link_color='1DA1F2', profile_sidebar_border_color='C0DEED', profile_sidebar_fill_color='DDEEF6', profile_text_color='333333', profile_use_background_image=True, has_extended_profile=True, default_profile=True, default_profile_image=False, following=False, follow_request_sent=False, notifications=False, translator_type='none'), user=User(_api=<tweepy.api.API object at 0x000002044AECAF88>, _json={'id': 721267863936479233, 'id_str': '721267863936479233', 'name': 'jiya♡ // ✨', 'screen_name': 'jiya_1811', 'location': '', 'description': 'Viratian ( कोहली )❤||\\n\\nMicrobio life🔬~blogger 📝||\\n\\nNot everyone deserves the good version of you! 🤙', 'url': 'https://t.co/nioaLFGNaE', 'entities': {'url': {'urls': [{'url': 'https://t.co/nioaLFGNaE', 'expanded_url': 'https://microbiologyeducationworld.blogspot.com/', 'display_url': '…crobiologyeducationworld.blogspot.com', 'indices': [0, 23]}]}, 'description': {'urls': []}}, 'protected': False, 'followers_count': 170, 'friends_count': 450, 'listed_count': 0, 'created_at': 'Sat Apr 16 09:23:54 +0000 2016', 'favourites_count': 25397, 'utc_offset': None, 'time_zone': None, 'geo_enabled': False, 'verified': False, 'statuses_count': 7931, 'lang': None, 'contributors_enabled': False, 'is_translator': False, 'is_translation_enabled': False, 'profile_background_color': 'F5F8FA', 'profile_background_image_url': None, 'profile_background_image_url_https': None, 'profile_background_tile': False, 'profile_image_url': 'http://pbs.twimg.com/profile_images/1327671379286585346/cDe-SXek_normal.jpg', 'profile_image_url_https': 'https://pbs.twimg.com/profile_images/1327671379286585346/cDe-SXek_normal.jpg', 'profile_banner_url': 'https://pbs.twimg.com/profile_banners/721267863936479233/1604493982', 'profile_link_color': '1DA1F2', 'profile_sidebar_border_color': 'C0DEED', 'profile_sidebar_fill_color': 'DDEEF6', 'profile_text_color': '333333', 'profile_use_background_image': True, 'has_extended_profile': True, 'default_profile': True, 'default_profile_image': False, 'following': False, 'follow_request_sent': False, 'notifications': False, 'translator_type': 'none'}, id=721267863936479233, id_str='721267863936479233', name='jiya♡ // ✨', screen_name='jiya_1811', location='', description='Viratian ( कोहली )❤||\\n\\nMicrobio life🔬~blogger 📝||\\n\\nNot everyone deserves the good version of you! 🤙', url='https://t.co/nioaLFGNaE', entities={'url': {'urls': [{'url': 'https://t.co/nioaLFGNaE', 'expanded_url': 'https://microbiologyeducationworld.blogspot.com/', 'display_url': '…crobiologyeducationworld.blogspot.com', 'indices': [0, 23]}]}, 'description': {'urls': []}}, protected=False, followers_count=170, friends_count=450, listed_count=0, created_at=datetime.datetime(2016, 4, 16, 9, 23, 54), favourites_count=25397, utc_offset=None, time_zone=None, geo_enabled=False, verified=False, statuses_count=7931, lang=None, contributors_enabled=False, is_translator=False, is_translation_enabled=False, profile_background_color='F5F8FA', profile_background_image_url=None, profile_background_image_url_https=None, profile_background_tile=False, profile_image_url='http://pbs.twimg.com/profile_images/1327671379286585346/cDe-SXek_normal.jpg', profile_image_url_https='https://pbs.twimg.com/profile_images/1327671379286585346/cDe-SXek_normal.jpg', profile_banner_url='https://pbs.twimg.com/profile_banners/721267863936479233/1604493982', profile_link_color='1DA1F2', profile_sidebar_border_color='C0DEED', profile_sidebar_fill_color='DDEEF6', profile_text_color='333333', profile_use_background_image=True, has_extended_profile=True, default_profile=True, default_profile_image=False, following=False, follow_request_sent=False, notifications=False, translator_type='none'), geo=None, coordinates=None, place=None, contributors=None, is_quote_status=False, retweet_count=0, favorite_count=0, favorited=False, retweeted=False, lang='en') \n",
      "\n",
      ".....................................\n",
      "\n",
      "Status(_api=<tweepy.api.API object at 0x000002044AECAF88>, _json={'created_at': 'Thu Nov 26 13:11:36 +0000 2020', 'id': 1331948722025009155, 'id_str': '1331948722025009155', 'full_text': '@rajasthanroyals @JofraArcher RCB winning IPL 2021 🥺', 'truncated': False, 'display_text_range': [30, 52], 'entities': {'hashtags': [], 'symbols': [], 'user_mentions': [{'screen_name': 'rajasthanroyals', 'name': 'Rajasthan Royals', 'id': 17082958, 'id_str': '17082958', 'indices': [0, 16]}, {'screen_name': 'JofraArcher', 'name': 'Jofra Archer', 'id': 290153781, 'id_str': '290153781', 'indices': [17, 29]}], 'urls': []}, 'metadata': {'iso_language_code': 'en', 'result_type': 'recent'}, 'source': '<a href=\"https://mobile.twitter.com\" rel=\"nofollow\">Twitter Web App</a>', 'in_reply_to_status_id': 1331946568421838849, 'in_reply_to_status_id_str': '1331946568421838849', 'in_reply_to_user_id': 17082958, 'in_reply_to_user_id_str': '17082958', 'in_reply_to_screen_name': 'rajasthanroyals', 'user': {'id': 1148659309129195520, 'id_str': '1148659309129195520', 'name': 'Unknown', 'screen_name': 'Sumanth12661041', 'location': '', 'description': '', 'url': None, 'entities': {'description': {'urls': []}}, 'protected': False, 'followers_count': 83, 'friends_count': 156, 'listed_count': 0, 'created_at': 'Tue Jul 09 18:24:55 +0000 2019', 'favourites_count': 44079, 'utc_offset': None, 'time_zone': None, 'geo_enabled': False, 'verified': False, 'statuses_count': 1581, 'lang': None, 'contributors_enabled': False, 'is_translator': False, 'is_translation_enabled': False, 'profile_background_color': 'F5F8FA', 'profile_background_image_url': None, 'profile_background_image_url_https': None, 'profile_background_tile': False, 'profile_image_url': 'http://pbs.twimg.com/profile_images/1328013838063702016/Gew-vCK6_normal.jpg', 'profile_image_url_https': 'https://pbs.twimg.com/profile_images/1328013838063702016/Gew-vCK6_normal.jpg', 'profile_banner_url': 'https://pbs.twimg.com/profile_banners/1148659309129195520/1605458263', 'profile_link_color': '1DA1F2', 'profile_sidebar_border_color': 'C0DEED', 'profile_sidebar_fill_color': 'DDEEF6', 'profile_text_color': '333333', 'profile_use_background_image': True, 'has_extended_profile': False, 'default_profile': True, 'default_profile_image': False, 'following': False, 'follow_request_sent': False, 'notifications': False, 'translator_type': 'none'}, 'geo': None, 'coordinates': None, 'place': None, 'contributors': None, 'is_quote_status': False, 'retweet_count': 0, 'favorite_count': 1, 'favorited': False, 'retweeted': False, 'lang': 'en'}, created_at=datetime.datetime(2020, 11, 26, 13, 11, 36), id=1331948722025009155, id_str='1331948722025009155', full_text='@rajasthanroyals @JofraArcher RCB winning IPL 2021 🥺', truncated=False, display_text_range=[30, 52], entities={'hashtags': [], 'symbols': [], 'user_mentions': [{'screen_name': 'rajasthanroyals', 'name': 'Rajasthan Royals', 'id': 17082958, 'id_str': '17082958', 'indices': [0, 16]}, {'screen_name': 'JofraArcher', 'name': 'Jofra Archer', 'id': 290153781, 'id_str': '290153781', 'indices': [17, 29]}], 'urls': []}, metadata={'iso_language_code': 'en', 'result_type': 'recent'}, source='Twitter Web App', source_url='https://mobile.twitter.com', in_reply_to_status_id=1331946568421838849, in_reply_to_status_id_str='1331946568421838849', in_reply_to_user_id=17082958, in_reply_to_user_id_str='17082958', in_reply_to_screen_name='rajasthanroyals', author=User(_api=<tweepy.api.API object at 0x000002044AECAF88>, _json={'id': 1148659309129195520, 'id_str': '1148659309129195520', 'name': 'Unknown', 'screen_name': 'Sumanth12661041', 'location': '', 'description': '', 'url': None, 'entities': {'description': {'urls': []}}, 'protected': False, 'followers_count': 83, 'friends_count': 156, 'listed_count': 0, 'created_at': 'Tue Jul 09 18:24:55 +0000 2019', 'favourites_count': 44079, 'utc_offset': None, 'time_zone': None, 'geo_enabled': False, 'verified': False, 'statuses_count': 1581, 'lang': None, 'contributors_enabled': False, 'is_translator': False, 'is_translation_enabled': False, 'profile_background_color': 'F5F8FA', 'profile_background_image_url': None, 'profile_background_image_url_https': None, 'profile_background_tile': False, 'profile_image_url': 'http://pbs.twimg.com/profile_images/1328013838063702016/Gew-vCK6_normal.jpg', 'profile_image_url_https': 'https://pbs.twimg.com/profile_images/1328013838063702016/Gew-vCK6_normal.jpg', 'profile_banner_url': 'https://pbs.twimg.com/profile_banners/1148659309129195520/1605458263', 'profile_link_color': '1DA1F2', 'profile_sidebar_border_color': 'C0DEED', 'profile_sidebar_fill_color': 'DDEEF6', 'profile_text_color': '333333', 'profile_use_background_image': True, 'has_extended_profile': False, 'default_profile': True, 'default_profile_image': False, 'following': False, 'follow_request_sent': False, 'notifications': False, 'translator_type': 'none'}, id=1148659309129195520, id_str='1148659309129195520', name='Unknown', screen_name='Sumanth12661041', location='', description='', url=None, entities={'description': {'urls': []}}, protected=False, followers_count=83, friends_count=156, listed_count=0, created_at=datetime.datetime(2019, 7, 9, 18, 24, 55), favourites_count=44079, utc_offset=None, time_zone=None, geo_enabled=False, verified=False, statuses_count=1581, lang=None, contributors_enabled=False, is_translator=False, is_translation_enabled=False, profile_background_color='F5F8FA', profile_background_image_url=None, profile_background_image_url_https=None, profile_background_tile=False, profile_image_url='http://pbs.twimg.com/profile_images/1328013838063702016/Gew-vCK6_normal.jpg', profile_image_url_https='https://pbs.twimg.com/profile_images/1328013838063702016/Gew-vCK6_normal.jpg', profile_banner_url='https://pbs.twimg.com/profile_banners/1148659309129195520/1605458263', profile_link_color='1DA1F2', profile_sidebar_border_color='C0DEED', profile_sidebar_fill_color='DDEEF6', profile_text_color='333333', profile_use_background_image=True, has_extended_profile=False, default_profile=True, default_profile_image=False, following=False, follow_request_sent=False, notifications=False, translator_type='none'), user=User(_api=<tweepy.api.API object at 0x000002044AECAF88>, _json={'id': 1148659309129195520, 'id_str': '1148659309129195520', 'name': 'Unknown', 'screen_name': 'Sumanth12661041', 'location': '', 'description': '', 'url': None, 'entities': {'description': {'urls': []}}, 'protected': False, 'followers_count': 83, 'friends_count': 156, 'listed_count': 0, 'created_at': 'Tue Jul 09 18:24:55 +0000 2019', 'favourites_count': 44079, 'utc_offset': None, 'time_zone': None, 'geo_enabled': False, 'verified': False, 'statuses_count': 1581, 'lang': None, 'contributors_enabled': False, 'is_translator': False, 'is_translation_enabled': False, 'profile_background_color': 'F5F8FA', 'profile_background_image_url': None, 'profile_background_image_url_https': None, 'profile_background_tile': False, 'profile_image_url': 'http://pbs.twimg.com/profile_images/1328013838063702016/Gew-vCK6_normal.jpg', 'profile_image_url_https': 'https://pbs.twimg.com/profile_images/1328013838063702016/Gew-vCK6_normal.jpg', 'profile_banner_url': 'https://pbs.twimg.com/profile_banners/1148659309129195520/1605458263', 'profile_link_color': '1DA1F2', 'profile_sidebar_border_color': 'C0DEED', 'profile_sidebar_fill_color': 'DDEEF6', 'profile_text_color': '333333', 'profile_use_background_image': True, 'has_extended_profile': False, 'default_profile': True, 'default_profile_image': False, 'following': False, 'follow_request_sent': False, 'notifications': False, 'translator_type': 'none'}, id=1148659309129195520, id_str='1148659309129195520', name='Unknown', screen_name='Sumanth12661041', location='', description='', url=None, entities={'description': {'urls': []}}, protected=False, followers_count=83, friends_count=156, listed_count=0, created_at=datetime.datetime(2019, 7, 9, 18, 24, 55), favourites_count=44079, utc_offset=None, time_zone=None, geo_enabled=False, verified=False, statuses_count=1581, lang=None, contributors_enabled=False, is_translator=False, is_translation_enabled=False, profile_background_color='F5F8FA', profile_background_image_url=None, profile_background_image_url_https=None, profile_background_tile=False, profile_image_url='http://pbs.twimg.com/profile_images/1328013838063702016/Gew-vCK6_normal.jpg', profile_image_url_https='https://pbs.twimg.com/profile_images/1328013838063702016/Gew-vCK6_normal.jpg', profile_banner_url='https://pbs.twimg.com/profile_banners/1148659309129195520/1605458263', profile_link_color='1DA1F2', profile_sidebar_border_color='C0DEED', profile_sidebar_fill_color='DDEEF6', profile_text_color='333333', profile_use_background_image=True, has_extended_profile=False, default_profile=True, default_profile_image=False, following=False, follow_request_sent=False, notifications=False, translator_type='none'), geo=None, coordinates=None, place=None, contributors=None, is_quote_status=False, retweet_count=0, favorite_count=1, favorited=False, retweeted=False, lang='en') \n",
      "\n",
      ".....................................\n",
      "\n",
      "Status(_api=<tweepy.api.API object at 0x000002044AECAF88>, _json={'created_at': 'Thu Nov 26 13:04:40 +0000 2020', 'id': 1331946979690045442, 'id_str': '1331946979690045442', 'full_text': \"@rajasthanroyals @JofraArcher RCB won the IPL trophy and it's Virat Kohli who took RCB to a victory with a match winning century\", 'truncated': False, 'display_text_range': [30, 128], 'entities': {'hashtags': [], 'symbols': [], 'user_mentions': [{'screen_name': 'rajasthanroyals', 'name': 'Rajasthan Royals', 'id': 17082958, 'id_str': '17082958', 'indices': [0, 16]}, {'screen_name': 'JofraArcher', 'name': 'Jofra Archer', 'id': 290153781, 'id_str': '290153781', 'indices': [17, 29]}], 'urls': []}, 'metadata': {'iso_language_code': 'en', 'result_type': 'recent'}, 'source': '<a href=\"http://twitter.com/download/android\" rel=\"nofollow\">Twitter for Android</a>', 'in_reply_to_status_id': 1331946568421838849, 'in_reply_to_status_id_str': '1331946568421838849', 'in_reply_to_user_id': 17082958, 'in_reply_to_user_id_str': '17082958', 'in_reply_to_screen_name': 'rajasthanroyals', 'user': {'id': 1066656290527567872, 'id_str': '1066656290527567872', 'name': 'Monika', 'screen_name': 'ThakkarMonika07', 'location': 'Ahmadabad City, India', 'description': \"Cricket lover🏏........dhoni's superfan.....\\nRCB fangirl❤......\", 'url': None, 'entities': {'description': {'urls': []}}, 'protected': False, 'followers_count': 348, 'friends_count': 357, 'listed_count': 0, 'created_at': 'Sun Nov 25 11:34:11 +0000 2018', 'favourites_count': 14661, 'utc_offset': None, 'time_zone': None, 'geo_enabled': False, 'verified': False, 'statuses_count': 8452, 'lang': None, 'contributors_enabled': False, 'is_translator': False, 'is_translation_enabled': False, 'profile_background_color': 'F5F8FA', 'profile_background_image_url': None, 'profile_background_image_url_https': None, 'profile_background_tile': False, 'profile_image_url': 'http://pbs.twimg.com/profile_images/1328592567521452032/WH15WBvr_normal.jpg', 'profile_image_url_https': 'https://pbs.twimg.com/profile_images/1328592567521452032/WH15WBvr_normal.jpg', 'profile_banner_url': 'https://pbs.twimg.com/profile_banners/1066656290527567872/1605624412', 'profile_link_color': '1DA1F2', 'profile_sidebar_border_color': 'C0DEED', 'profile_sidebar_fill_color': 'DDEEF6', 'profile_text_color': '333333', 'profile_use_background_image': True, 'has_extended_profile': True, 'default_profile': True, 'default_profile_image': False, 'following': False, 'follow_request_sent': False, 'notifications': False, 'translator_type': 'none'}, 'geo': None, 'coordinates': None, 'place': None, 'contributors': None, 'is_quote_status': False, 'retweet_count': 0, 'favorite_count': 4, 'favorited': False, 'retweeted': False, 'lang': 'en'}, created_at=datetime.datetime(2020, 11, 26, 13, 4, 40), id=1331946979690045442, id_str='1331946979690045442', full_text=\"@rajasthanroyals @JofraArcher RCB won the IPL trophy and it's Virat Kohli who took RCB to a victory with a match winning century\", truncated=False, display_text_range=[30, 128], entities={'hashtags': [], 'symbols': [], 'user_mentions': [{'screen_name': 'rajasthanroyals', 'name': 'Rajasthan Royals', 'id': 17082958, 'id_str': '17082958', 'indices': [0, 16]}, {'screen_name': 'JofraArcher', 'name': 'Jofra Archer', 'id': 290153781, 'id_str': '290153781', 'indices': [17, 29]}], 'urls': []}, metadata={'iso_language_code': 'en', 'result_type': 'recent'}, source='Twitter for Android', source_url='http://twitter.com/download/android', in_reply_to_status_id=1331946568421838849, in_reply_to_status_id_str='1331946568421838849', in_reply_to_user_id=17082958, in_reply_to_user_id_str='17082958', in_reply_to_screen_name='rajasthanroyals', author=User(_api=<tweepy.api.API object at 0x000002044AECAF88>, _json={'id': 1066656290527567872, 'id_str': '1066656290527567872', 'name': 'Monika', 'screen_name': 'ThakkarMonika07', 'location': 'Ahmadabad City, India', 'description': \"Cricket lover🏏........dhoni's superfan.....\\nRCB fangirl❤......\", 'url': None, 'entities': {'description': {'urls': []}}, 'protected': False, 'followers_count': 348, 'friends_count': 357, 'listed_count': 0, 'created_at': 'Sun Nov 25 11:34:11 +0000 2018', 'favourites_count': 14661, 'utc_offset': None, 'time_zone': None, 'geo_enabled': False, 'verified': False, 'statuses_count': 8452, 'lang': None, 'contributors_enabled': False, 'is_translator': False, 'is_translation_enabled': False, 'profile_background_color': 'F5F8FA', 'profile_background_image_url': None, 'profile_background_image_url_https': None, 'profile_background_tile': False, 'profile_image_url': 'http://pbs.twimg.com/profile_images/1328592567521452032/WH15WBvr_normal.jpg', 'profile_image_url_https': 'https://pbs.twimg.com/profile_images/1328592567521452032/WH15WBvr_normal.jpg', 'profile_banner_url': 'https://pbs.twimg.com/profile_banners/1066656290527567872/1605624412', 'profile_link_color': '1DA1F2', 'profile_sidebar_border_color': 'C0DEED', 'profile_sidebar_fill_color': 'DDEEF6', 'profile_text_color': '333333', 'profile_use_background_image': True, 'has_extended_profile': True, 'default_profile': True, 'default_profile_image': False, 'following': False, 'follow_request_sent': False, 'notifications': False, 'translator_type': 'none'}, id=1066656290527567872, id_str='1066656290527567872', name='Monika', screen_name='ThakkarMonika07', location='Ahmadabad City, India', description=\"Cricket lover🏏........dhoni's superfan.....\\nRCB fangirl❤......\", url=None, entities={'description': {'urls': []}}, protected=False, followers_count=348, friends_count=357, listed_count=0, created_at=datetime.datetime(2018, 11, 25, 11, 34, 11), favourites_count=14661, utc_offset=None, time_zone=None, geo_enabled=False, verified=False, statuses_count=8452, lang=None, contributors_enabled=False, is_translator=False, is_translation_enabled=False, profile_background_color='F5F8FA', profile_background_image_url=None, profile_background_image_url_https=None, profile_background_tile=False, profile_image_url='http://pbs.twimg.com/profile_images/1328592567521452032/WH15WBvr_normal.jpg', profile_image_url_https='https://pbs.twimg.com/profile_images/1328592567521452032/WH15WBvr_normal.jpg', profile_banner_url='https://pbs.twimg.com/profile_banners/1066656290527567872/1605624412', profile_link_color='1DA1F2', profile_sidebar_border_color='C0DEED', profile_sidebar_fill_color='DDEEF6', profile_text_color='333333', profile_use_background_image=True, has_extended_profile=True, default_profile=True, default_profile_image=False, following=False, follow_request_sent=False, notifications=False, translator_type='none'), user=User(_api=<tweepy.api.API object at 0x000002044AECAF88>, _json={'id': 1066656290527567872, 'id_str': '1066656290527567872', 'name': 'Monika', 'screen_name': 'ThakkarMonika07', 'location': 'Ahmadabad City, India', 'description': \"Cricket lover🏏........dhoni's superfan.....\\nRCB fangirl❤......\", 'url': None, 'entities': {'description': {'urls': []}}, 'protected': False, 'followers_count': 348, 'friends_count': 357, 'listed_count': 0, 'created_at': 'Sun Nov 25 11:34:11 +0000 2018', 'favourites_count': 14661, 'utc_offset': None, 'time_zone': None, 'geo_enabled': False, 'verified': False, 'statuses_count': 8452, 'lang': None, 'contributors_enabled': False, 'is_translator': False, 'is_translation_enabled': False, 'profile_background_color': 'F5F8FA', 'profile_background_image_url': None, 'profile_background_image_url_https': None, 'profile_background_tile': False, 'profile_image_url': 'http://pbs.twimg.com/profile_images/1328592567521452032/WH15WBvr_normal.jpg', 'profile_image_url_https': 'https://pbs.twimg.com/profile_images/1328592567521452032/WH15WBvr_normal.jpg', 'profile_banner_url': 'https://pbs.twimg.com/profile_banners/1066656290527567872/1605624412', 'profile_link_color': '1DA1F2', 'profile_sidebar_border_color': 'C0DEED', 'profile_sidebar_fill_color': 'DDEEF6', 'profile_text_color': '333333', 'profile_use_background_image': True, 'has_extended_profile': True, 'default_profile': True, 'default_profile_image': False, 'following': False, 'follow_request_sent': False, 'notifications': False, 'translator_type': 'none'}, id=1066656290527567872, id_str='1066656290527567872', name='Monika', screen_name='ThakkarMonika07', location='Ahmadabad City, India', description=\"Cricket lover🏏........dhoni's superfan.....\\nRCB fangirl❤......\", url=None, entities={'description': {'urls': []}}, protected=False, followers_count=348, friends_count=357, listed_count=0, created_at=datetime.datetime(2018, 11, 25, 11, 34, 11), favourites_count=14661, utc_offset=None, time_zone=None, geo_enabled=False, verified=False, statuses_count=8452, lang=None, contributors_enabled=False, is_translator=False, is_translation_enabled=False, profile_background_color='F5F8FA', profile_background_image_url=None, profile_background_image_url_https=None, profile_background_tile=False, profile_image_url='http://pbs.twimg.com/profile_images/1328592567521452032/WH15WBvr_normal.jpg', profile_image_url_https='https://pbs.twimg.com/profile_images/1328592567521452032/WH15WBvr_normal.jpg', profile_banner_url='https://pbs.twimg.com/profile_banners/1066656290527567872/1605624412', profile_link_color='1DA1F2', profile_sidebar_border_color='C0DEED', profile_sidebar_fill_color='DDEEF6', profile_text_color='333333', profile_use_background_image=True, has_extended_profile=True, default_profile=True, default_profile_image=False, following=False, follow_request_sent=False, notifications=False, translator_type='none'), geo=None, coordinates=None, place=None, contributors=None, is_quote_status=False, retweet_count=0, favorite_count=4, favorited=False, retweeted=False, lang='en') \n",
      "\n",
      ".....................................\n",
      "\n",
      "Status(_api=<tweepy.api.API object at 0x000002044AECAF88>, _json={'created_at': 'Thu Nov 26 03:40:15 +0000 2020', 'id': 1331804938972913664, 'id_str': '1331804938972913664', 'full_text': '@Idlesam @7077673aio @Amush225 @ESPNcricinfo @cricketaakash RCB spend the same and Kohli is highest priced player in entire IPL. All this is just excuses. Rohit is winning since 2013 and not just this year', 'truncated': False, 'display_text_range': [60, 205], 'entities': {'hashtags': [], 'symbols': [], 'user_mentions': [{'screen_name': 'Idlesam', 'name': 'SAM', 'id': 30816602, 'id_str': '30816602', 'indices': [0, 8]}, {'screen_name': '7077673aio', 'name': 'Voldemort Dumbledore bhai bhai', 'id': 1069532630377467904, 'id_str': '1069532630377467904', 'indices': [9, 20]}, {'screen_name': 'Amush225', 'name': 'Amush', 'id': 1292809776699592704, 'id_str': '1292809776699592704', 'indices': [21, 30]}, {'screen_name': 'ESPNcricinfo', 'name': 'ESPNcricinfo', 'id': 16542390, 'id_str': '16542390', 'indices': [31, 44]}, {'screen_name': 'cricketaakash', 'name': 'Aakash Chopra', 'id': 70663487, 'id_str': '70663487', 'indices': [45, 59]}], 'urls': []}, 'metadata': {'iso_language_code': 'en', 'result_type': 'recent'}, 'source': '<a href=\"http://twitter.com/download/android\" rel=\"nofollow\">Twitter for Android</a>', 'in_reply_to_status_id': 1331800122397745153, 'in_reply_to_status_id_str': '1331800122397745153', 'in_reply_to_user_id': 30816602, 'in_reply_to_user_id_str': '30816602', 'in_reply_to_screen_name': 'Idlesam', 'user': {'id': 30310051, 'id_str': '30310051', 'name': 'Nagesh Nayak', 'screen_name': 'The5trategist', 'location': 'Florida, USA', 'description': 'Interests - Sports, Travel, Business and Politics', 'url': None, 'entities': {'description': {'urls': []}}, 'protected': False, 'followers_count': 263, 'friends_count': 1875, 'listed_count': 3, 'created_at': 'Fri Apr 10 20:52:21 +0000 2009', 'favourites_count': 4279, 'utc_offset': None, 'time_zone': None, 'geo_enabled': True, 'verified': False, 'statuses_count': 2391, 'lang': None, 'contributors_enabled': False, 'is_translator': False, 'is_translation_enabled': False, 'profile_background_color': '000000', 'profile_background_image_url': 'http://abs.twimg.com/images/themes/theme5/bg.gif', 'profile_background_image_url_https': 'https://abs.twimg.com/images/themes/theme5/bg.gif', 'profile_background_tile': False, 'profile_image_url': 'http://pbs.twimg.com/profile_images/2606310152/a4fcilbyiq9sevqdos16_normal.jpeg', 'profile_image_url_https': 'https://pbs.twimg.com/profile_images/2606310152/a4fcilbyiq9sevqdos16_normal.jpeg', 'profile_banner_url': 'https://pbs.twimg.com/profile_banners/30310051/1555595660', 'profile_link_color': '1B95E0', 'profile_sidebar_border_color': '000000', 'profile_sidebar_fill_color': '000000', 'profile_text_color': '000000', 'profile_use_background_image': False, 'has_extended_profile': True, 'default_profile': False, 'default_profile_image': False, 'following': False, 'follow_request_sent': False, 'notifications': False, 'translator_type': 'none'}, 'geo': None, 'coordinates': None, 'place': None, 'contributors': None, 'is_quote_status': False, 'retweet_count': 0, 'favorite_count': 0, 'favorited': False, 'retweeted': False, 'lang': 'en'}, created_at=datetime.datetime(2020, 11, 26, 3, 40, 15), id=1331804938972913664, id_str='1331804938972913664', full_text='@Idlesam @7077673aio @Amush225 @ESPNcricinfo @cricketaakash RCB spend the same and Kohli is highest priced player in entire IPL. All this is just excuses. Rohit is winning since 2013 and not just this year', truncated=False, display_text_range=[60, 205], entities={'hashtags': [], 'symbols': [], 'user_mentions': [{'screen_name': 'Idlesam', 'name': 'SAM', 'id': 30816602, 'id_str': '30816602', 'indices': [0, 8]}, {'screen_name': '7077673aio', 'name': 'Voldemort Dumbledore bhai bhai', 'id': 1069532630377467904, 'id_str': '1069532630377467904', 'indices': [9, 20]}, {'screen_name': 'Amush225', 'name': 'Amush', 'id': 1292809776699592704, 'id_str': '1292809776699592704', 'indices': [21, 30]}, {'screen_name': 'ESPNcricinfo', 'name': 'ESPNcricinfo', 'id': 16542390, 'id_str': '16542390', 'indices': [31, 44]}, {'screen_name': 'cricketaakash', 'name': 'Aakash Chopra', 'id': 70663487, 'id_str': '70663487', 'indices': [45, 59]}], 'urls': []}, metadata={'iso_language_code': 'en', 'result_type': 'recent'}, source='Twitter for Android', source_url='http://twitter.com/download/android', in_reply_to_status_id=1331800122397745153, in_reply_to_status_id_str='1331800122397745153', in_reply_to_user_id=30816602, in_reply_to_user_id_str='30816602', in_reply_to_screen_name='Idlesam', author=User(_api=<tweepy.api.API object at 0x000002044AECAF88>, _json={'id': 30310051, 'id_str': '30310051', 'name': 'Nagesh Nayak', 'screen_name': 'The5trategist', 'location': 'Florida, USA', 'description': 'Interests - Sports, Travel, Business and Politics', 'url': None, 'entities': {'description': {'urls': []}}, 'protected': False, 'followers_count': 263, 'friends_count': 1875, 'listed_count': 3, 'created_at': 'Fri Apr 10 20:52:21 +0000 2009', 'favourites_count': 4279, 'utc_offset': None, 'time_zone': None, 'geo_enabled': True, 'verified': False, 'statuses_count': 2391, 'lang': None, 'contributors_enabled': False, 'is_translator': False, 'is_translation_enabled': False, 'profile_background_color': '000000', 'profile_background_image_url': 'http://abs.twimg.com/images/themes/theme5/bg.gif', 'profile_background_image_url_https': 'https://abs.twimg.com/images/themes/theme5/bg.gif', 'profile_background_tile': False, 'profile_image_url': 'http://pbs.twimg.com/profile_images/2606310152/a4fcilbyiq9sevqdos16_normal.jpeg', 'profile_image_url_https': 'https://pbs.twimg.com/profile_images/2606310152/a4fcilbyiq9sevqdos16_normal.jpeg', 'profile_banner_url': 'https://pbs.twimg.com/profile_banners/30310051/1555595660', 'profile_link_color': '1B95E0', 'profile_sidebar_border_color': '000000', 'profile_sidebar_fill_color': '000000', 'profile_text_color': '000000', 'profile_use_background_image': False, 'has_extended_profile': True, 'default_profile': False, 'default_profile_image': False, 'following': False, 'follow_request_sent': False, 'notifications': False, 'translator_type': 'none'}, id=30310051, id_str='30310051', name='Nagesh Nayak', screen_name='The5trategist', location='Florida, USA', description='Interests - Sports, Travel, Business and Politics', url=None, entities={'description': {'urls': []}}, protected=False, followers_count=263, friends_count=1875, listed_count=3, created_at=datetime.datetime(2009, 4, 10, 20, 52, 21), favourites_count=4279, utc_offset=None, time_zone=None, geo_enabled=True, verified=False, statuses_count=2391, lang=None, contributors_enabled=False, is_translator=False, is_translation_enabled=False, profile_background_color='000000', profile_background_image_url='http://abs.twimg.com/images/themes/theme5/bg.gif', profile_background_image_url_https='https://abs.twimg.com/images/themes/theme5/bg.gif', profile_background_tile=False, profile_image_url='http://pbs.twimg.com/profile_images/2606310152/a4fcilbyiq9sevqdos16_normal.jpeg', profile_image_url_https='https://pbs.twimg.com/profile_images/2606310152/a4fcilbyiq9sevqdos16_normal.jpeg', profile_banner_url='https://pbs.twimg.com/profile_banners/30310051/1555595660', profile_link_color='1B95E0', profile_sidebar_border_color='000000', profile_sidebar_fill_color='000000', profile_text_color='000000', profile_use_background_image=False, has_extended_profile=True, default_profile=False, default_profile_image=False, following=False, follow_request_sent=False, notifications=False, translator_type='none'), user=User(_api=<tweepy.api.API object at 0x000002044AECAF88>, _json={'id': 30310051, 'id_str': '30310051', 'name': 'Nagesh Nayak', 'screen_name': 'The5trategist', 'location': 'Florida, USA', 'description': 'Interests - Sports, Travel, Business and Politics', 'url': None, 'entities': {'description': {'urls': []}}, 'protected': False, 'followers_count': 263, 'friends_count': 1875, 'listed_count': 3, 'created_at': 'Fri Apr 10 20:52:21 +0000 2009', 'favourites_count': 4279, 'utc_offset': None, 'time_zone': None, 'geo_enabled': True, 'verified': False, 'statuses_count': 2391, 'lang': None, 'contributors_enabled': False, 'is_translator': False, 'is_translation_enabled': False, 'profile_background_color': '000000', 'profile_background_image_url': 'http://abs.twimg.com/images/themes/theme5/bg.gif', 'profile_background_image_url_https': 'https://abs.twimg.com/images/themes/theme5/bg.gif', 'profile_background_tile': False, 'profile_image_url': 'http://pbs.twimg.com/profile_images/2606310152/a4fcilbyiq9sevqdos16_normal.jpeg', 'profile_image_url_https': 'https://pbs.twimg.com/profile_images/2606310152/a4fcilbyiq9sevqdos16_normal.jpeg', 'profile_banner_url': 'https://pbs.twimg.com/profile_banners/30310051/1555595660', 'profile_link_color': '1B95E0', 'profile_sidebar_border_color': '000000', 'profile_sidebar_fill_color': '000000', 'profile_text_color': '000000', 'profile_use_background_image': False, 'has_extended_profile': True, 'default_profile': False, 'default_profile_image': False, 'following': False, 'follow_request_sent': False, 'notifications': False, 'translator_type': 'none'}, id=30310051, id_str='30310051', name='Nagesh Nayak', screen_name='The5trategist', location='Florida, USA', description='Interests - Sports, Travel, Business and Politics', url=None, entities={'description': {'urls': []}}, protected=False, followers_count=263, friends_count=1875, listed_count=3, created_at=datetime.datetime(2009, 4, 10, 20, 52, 21), favourites_count=4279, utc_offset=None, time_zone=None, geo_enabled=True, verified=False, statuses_count=2391, lang=None, contributors_enabled=False, is_translator=False, is_translation_enabled=False, profile_background_color='000000', profile_background_image_url='http://abs.twimg.com/images/themes/theme5/bg.gif', profile_background_image_url_https='https://abs.twimg.com/images/themes/theme5/bg.gif', profile_background_tile=False, profile_image_url='http://pbs.twimg.com/profile_images/2606310152/a4fcilbyiq9sevqdos16_normal.jpeg', profile_image_url_https='https://pbs.twimg.com/profile_images/2606310152/a4fcilbyiq9sevqdos16_normal.jpeg', profile_banner_url='https://pbs.twimg.com/profile_banners/30310051/1555595660', profile_link_color='1B95E0', profile_sidebar_border_color='000000', profile_sidebar_fill_color='000000', profile_text_color='000000', profile_use_background_image=False, has_extended_profile=True, default_profile=False, default_profile_image=False, following=False, follow_request_sent=False, notifications=False, translator_type='none'), geo=None, coordinates=None, place=None, contributors=None, is_quote_status=False, retweet_count=0, favorite_count=0, favorited=False, retweeted=False, lang='en') \n",
      "\n",
      ".....................................\n",
      "\n",
      "Status(_api=<tweepy.api.API object at 0x000002044AECAF88>, _json={'created_at': 'Wed Nov 25 17:01:42 +0000 2020', 'id': 1331644241781559298, 'id_str': '1331644241781559298', 'full_text': '@ankushcena8 @ImRitika45 @ImRo45 @GautamGambhir @imVkohli The problem is not ipl trophies,but the problem  is with his stupid statements and changing statements like politician \\nWhen Ms win wc he wants credit  to be given to each player,each player contribute  in winning but when Rcb loss he only called Virat responsible', 'truncated': False, 'display_text_range': [58, 322], 'entities': {'hashtags': [], 'symbols': [], 'user_mentions': [{'screen_name': 'ankushcena8', 'name': 'ankush Ingle', 'id': 949689787, 'id_str': '949689787', 'indices': [0, 12]}, {'screen_name': 'ImRitika45', 'name': 'Ritika Sajdeh Team™', 'id': 1054213166735990784, 'id_str': '1054213166735990784', 'indices': [13, 24]}, {'screen_name': 'ImRo45', 'name': 'Rohit Sharma', 'id': 121046433, 'id_str': '121046433', 'indices': [25, 32]}, {'screen_name': 'GautamGambhir', 'name': 'Gautam Gambhir', 'id': 99448420, 'id_str': '99448420', 'indices': [33, 47]}, {'screen_name': 'imVkohli', 'name': 'Virat Kohli', 'id': 71201743, 'id_str': '71201743', 'indices': [48, 57]}], 'urls': []}, 'metadata': {'iso_language_code': 'en', 'result_type': 'recent'}, 'source': '<a href=\"http://twitter.com/download/android\" rel=\"nofollow\">Twitter for Android</a>', 'in_reply_to_status_id': 1331624560592965632, 'in_reply_to_status_id_str': '1331624560592965632', 'in_reply_to_user_id': 949689787, 'in_reply_to_user_id_str': '949689787', 'in_reply_to_screen_name': 'ankushcena8', 'user': {'id': 1279998956538179584, 'id_str': '1279998956538179584', 'name': 'Pratham', 'screen_name': 'Pratham68331306', 'location': '', 'description': '', 'url': None, 'entities': {'description': {'urls': []}}, 'protected': False, 'followers_count': 45, 'friends_count': 69, 'listed_count': 0, 'created_at': 'Mon Jul 06 04:42:01 +0000 2020', 'favourites_count': 2497, 'utc_offset': None, 'time_zone': None, 'geo_enabled': False, 'verified': False, 'statuses_count': 1674, 'lang': None, 'contributors_enabled': False, 'is_translator': False, 'is_translation_enabled': False, 'profile_background_color': 'F5F8FA', 'profile_background_image_url': None, 'profile_background_image_url_https': None, 'profile_background_tile': False, 'profile_image_url': 'http://pbs.twimg.com/profile_images/1281471880482795521/ctWebdts_normal.jpg', 'profile_image_url_https': 'https://pbs.twimg.com/profile_images/1281471880482795521/ctWebdts_normal.jpg', 'profile_banner_url': 'https://pbs.twimg.com/profile_banners/1279998956538179584/1601458239', 'profile_link_color': '1DA1F2', 'profile_sidebar_border_color': 'C0DEED', 'profile_sidebar_fill_color': 'DDEEF6', 'profile_text_color': '333333', 'profile_use_background_image': True, 'has_extended_profile': True, 'default_profile': True, 'default_profile_image': False, 'following': False, 'follow_request_sent': False, 'notifications': False, 'translator_type': 'none'}, 'geo': None, 'coordinates': None, 'place': None, 'contributors': None, 'is_quote_status': False, 'retweet_count': 0, 'favorite_count': 2, 'favorited': False, 'retweeted': False, 'lang': 'en'}, created_at=datetime.datetime(2020, 11, 25, 17, 1, 42), id=1331644241781559298, id_str='1331644241781559298', full_text='@ankushcena8 @ImRitika45 @ImRo45 @GautamGambhir @imVkohli The problem is not ipl trophies,but the problem  is with his stupid statements and changing statements like politician \\nWhen Ms win wc he wants credit  to be given to each player,each player contribute  in winning but when Rcb loss he only called Virat responsible', truncated=False, display_text_range=[58, 322], entities={'hashtags': [], 'symbols': [], 'user_mentions': [{'screen_name': 'ankushcena8', 'name': 'ankush Ingle', 'id': 949689787, 'id_str': '949689787', 'indices': [0, 12]}, {'screen_name': 'ImRitika45', 'name': 'Ritika Sajdeh Team™', 'id': 1054213166735990784, 'id_str': '1054213166735990784', 'indices': [13, 24]}, {'screen_name': 'ImRo45', 'name': 'Rohit Sharma', 'id': 121046433, 'id_str': '121046433', 'indices': [25, 32]}, {'screen_name': 'GautamGambhir', 'name': 'Gautam Gambhir', 'id': 99448420, 'id_str': '99448420', 'indices': [33, 47]}, {'screen_name': 'imVkohli', 'name': 'Virat Kohli', 'id': 71201743, 'id_str': '71201743', 'indices': [48, 57]}], 'urls': []}, metadata={'iso_language_code': 'en', 'result_type': 'recent'}, source='Twitter for Android', source_url='http://twitter.com/download/android', in_reply_to_status_id=1331624560592965632, in_reply_to_status_id_str='1331624560592965632', in_reply_to_user_id=949689787, in_reply_to_user_id_str='949689787', in_reply_to_screen_name='ankushcena8', author=User(_api=<tweepy.api.API object at 0x000002044AECAF88>, _json={'id': 1279998956538179584, 'id_str': '1279998956538179584', 'name': 'Pratham', 'screen_name': 'Pratham68331306', 'location': '', 'description': '', 'url': None, 'entities': {'description': {'urls': []}}, 'protected': False, 'followers_count': 45, 'friends_count': 69, 'listed_count': 0, 'created_at': 'Mon Jul 06 04:42:01 +0000 2020', 'favourites_count': 2497, 'utc_offset': None, 'time_zone': None, 'geo_enabled': False, 'verified': False, 'statuses_count': 1674, 'lang': None, 'contributors_enabled': False, 'is_translator': False, 'is_translation_enabled': False, 'profile_background_color': 'F5F8FA', 'profile_background_image_url': None, 'profile_background_image_url_https': None, 'profile_background_tile': False, 'profile_image_url': 'http://pbs.twimg.com/profile_images/1281471880482795521/ctWebdts_normal.jpg', 'profile_image_url_https': 'https://pbs.twimg.com/profile_images/1281471880482795521/ctWebdts_normal.jpg', 'profile_banner_url': 'https://pbs.twimg.com/profile_banners/1279998956538179584/1601458239', 'profile_link_color': '1DA1F2', 'profile_sidebar_border_color': 'C0DEED', 'profile_sidebar_fill_color': 'DDEEF6', 'profile_text_color': '333333', 'profile_use_background_image': True, 'has_extended_profile': True, 'default_profile': True, 'default_profile_image': False, 'following': False, 'follow_request_sent': False, 'notifications': False, 'translator_type': 'none'}, id=1279998956538179584, id_str='1279998956538179584', name='Pratham', screen_name='Pratham68331306', location='', description='', url=None, entities={'description': {'urls': []}}, protected=False, followers_count=45, friends_count=69, listed_count=0, created_at=datetime.datetime(2020, 7, 6, 4, 42, 1), favourites_count=2497, utc_offset=None, time_zone=None, geo_enabled=False, verified=False, statuses_count=1674, lang=None, contributors_enabled=False, is_translator=False, is_translation_enabled=False, profile_background_color='F5F8FA', profile_background_image_url=None, profile_background_image_url_https=None, profile_background_tile=False, profile_image_url='http://pbs.twimg.com/profile_images/1281471880482795521/ctWebdts_normal.jpg', profile_image_url_https='https://pbs.twimg.com/profile_images/1281471880482795521/ctWebdts_normal.jpg', profile_banner_url='https://pbs.twimg.com/profile_banners/1279998956538179584/1601458239', profile_link_color='1DA1F2', profile_sidebar_border_color='C0DEED', profile_sidebar_fill_color='DDEEF6', profile_text_color='333333', profile_use_background_image=True, has_extended_profile=True, default_profile=True, default_profile_image=False, following=False, follow_request_sent=False, notifications=False, translator_type='none'), user=User(_api=<tweepy.api.API object at 0x000002044AECAF88>, _json={'id': 1279998956538179584, 'id_str': '1279998956538179584', 'name': 'Pratham', 'screen_name': 'Pratham68331306', 'location': '', 'description': '', 'url': None, 'entities': {'description': {'urls': []}}, 'protected': False, 'followers_count': 45, 'friends_count': 69, 'listed_count': 0, 'created_at': 'Mon Jul 06 04:42:01 +0000 2020', 'favourites_count': 2497, 'utc_offset': None, 'time_zone': None, 'geo_enabled': False, 'verified': False, 'statuses_count': 1674, 'lang': None, 'contributors_enabled': False, 'is_translator': False, 'is_translation_enabled': False, 'profile_background_color': 'F5F8FA', 'profile_background_image_url': None, 'profile_background_image_url_https': None, 'profile_background_tile': False, 'profile_image_url': 'http://pbs.twimg.com/profile_images/1281471880482795521/ctWebdts_normal.jpg', 'profile_image_url_https': 'https://pbs.twimg.com/profile_images/1281471880482795521/ctWebdts_normal.jpg', 'profile_banner_url': 'https://pbs.twimg.com/profile_banners/1279998956538179584/1601458239', 'profile_link_color': '1DA1F2', 'profile_sidebar_border_color': 'C0DEED', 'profile_sidebar_fill_color': 'DDEEF6', 'profile_text_color': '333333', 'profile_use_background_image': True, 'has_extended_profile': True, 'default_profile': True, 'default_profile_image': False, 'following': False, 'follow_request_sent': False, 'notifications': False, 'translator_type': 'none'}, id=1279998956538179584, id_str='1279998956538179584', name='Pratham', screen_name='Pratham68331306', location='', description='', url=None, entities={'description': {'urls': []}}, protected=False, followers_count=45, friends_count=69, listed_count=0, created_at=datetime.datetime(2020, 7, 6, 4, 42, 1), favourites_count=2497, utc_offset=None, time_zone=None, geo_enabled=False, verified=False, statuses_count=1674, lang=None, contributors_enabled=False, is_translator=False, is_translation_enabled=False, profile_background_color='F5F8FA', profile_background_image_url=None, profile_background_image_url_https=None, profile_background_tile=False, profile_image_url='http://pbs.twimg.com/profile_images/1281471880482795521/ctWebdts_normal.jpg', profile_image_url_https='https://pbs.twimg.com/profile_images/1281471880482795521/ctWebdts_normal.jpg', profile_banner_url='https://pbs.twimg.com/profile_banners/1279998956538179584/1601458239', profile_link_color='1DA1F2', profile_sidebar_border_color='C0DEED', profile_sidebar_fill_color='DDEEF6', profile_text_color='333333', profile_use_background_image=True, has_extended_profile=True, default_profile=True, default_profile_image=False, following=False, follow_request_sent=False, notifications=False, translator_type='none'), geo=None, coordinates=None, place=None, contributors=None, is_quote_status=False, retweet_count=0, favorite_count=2, favorited=False, retweeted=False, lang='en') \n",
      "\n",
      ".....................................\n",
      "\n",
      "Status(_api=<tweepy.api.API object at 0x000002044AECAF88>, _json={'created_at': 'Wed Nov 25 08:57:19 +0000 2020', 'id': 1331522343508733955, 'id_str': '1331522343508733955', 'full_text': \"@RVCJ_FB Undoubtedly Vk is best Captain Than rohit in somany series Virat kohli won max 90% matches for india ... In IPL it is selectors fault , rohit has team good that's y Mumbai winning , Rcb team given rohit then say wt happen?\", 'truncated': False, 'display_text_range': [9, 231], 'entities': {'hashtags': [], 'symbols': [], 'user_mentions': [{'screen_name': 'RVCJ_FB', 'name': 'RVCJ Media', 'id': 2835317718, 'id_str': '2835317718', 'indices': [0, 8]}], 'urls': []}, 'metadata': {'iso_language_code': 'en', 'result_type': 'recent'}, 'source': '<a href=\"http://twitter.com/download/android\" rel=\"nofollow\">Twitter for Android</a>', 'in_reply_to_status_id': 1331469194823487488, 'in_reply_to_status_id_str': '1331469194823487488', 'in_reply_to_user_id': 2835317718, 'in_reply_to_user_id_str': '2835317718', 'in_reply_to_screen_name': 'RVCJ_FB', 'user': {'id': 1156221681167298561, 'id_str': '1156221681167298561', 'name': '_', 'screen_name': 'Thop_TarakisM', 'location': '𝔾𝕦𝕟𝕥𝕦𝕣 ', 'description': '@tarak9999 & @imVkohli For Life \\n\\n@OliviaUsweety to @Thop_TarakisM\\n\\n\\n\\n\\n\\n\\n\\n\\n\\n\\n\\n\\n\\n\\n\\n\\n\\n\\n\\n\\n\\n\\n\\n\\n\\n\\n\\n\\n\\n\\n\\n\\nAmma❤️💕\\nNanna❤️👑', 'url': None, 'entities': {'description': {'urls': []}}, 'protected': False, 'followers_count': 1516, 'friends_count': 1676, 'listed_count': 0, 'created_at': 'Tue Jul 30 15:15:05 +0000 2019', 'favourites_count': 30420, 'utc_offset': None, 'time_zone': None, 'geo_enabled': True, 'verified': False, 'statuses_count': 88760, 'lang': None, 'contributors_enabled': False, 'is_translator': False, 'is_translation_enabled': False, 'profile_background_color': 'F5F8FA', 'profile_background_image_url': None, 'profile_background_image_url_https': None, 'profile_background_tile': False, 'profile_image_url': 'http://pbs.twimg.com/profile_images/1329346390892236800/WLN7PJjv_normal.jpg', 'profile_image_url_https': 'https://pbs.twimg.com/profile_images/1329346390892236800/WLN7PJjv_normal.jpg', 'profile_banner_url': 'https://pbs.twimg.com/profile_banners/1156221681167298561/1603508157', 'profile_link_color': '1DA1F2', 'profile_sidebar_border_color': 'C0DEED', 'profile_sidebar_fill_color': 'DDEEF6', 'profile_text_color': '333333', 'profile_use_background_image': True, 'has_extended_profile': True, 'default_profile': True, 'default_profile_image': False, 'following': False, 'follow_request_sent': False, 'notifications': False, 'translator_type': 'none'}, 'geo': None, 'coordinates': None, 'place': None, 'contributors': None, 'is_quote_status': False, 'retweet_count': 1, 'favorite_count': 4, 'favorited': False, 'retweeted': False, 'lang': 'en'}, created_at=datetime.datetime(2020, 11, 25, 8, 57, 19), id=1331522343508733955, id_str='1331522343508733955', full_text=\"@RVCJ_FB Undoubtedly Vk is best Captain Than rohit in somany series Virat kohli won max 90% matches for india ... In IPL it is selectors fault , rohit has team good that's y Mumbai winning , Rcb team given rohit then say wt happen?\", truncated=False, display_text_range=[9, 231], entities={'hashtags': [], 'symbols': [], 'user_mentions': [{'screen_name': 'RVCJ_FB', 'name': 'RVCJ Media', 'id': 2835317718, 'id_str': '2835317718', 'indices': [0, 8]}], 'urls': []}, metadata={'iso_language_code': 'en', 'result_type': 'recent'}, source='Twitter for Android', source_url='http://twitter.com/download/android', in_reply_to_status_id=1331469194823487488, in_reply_to_status_id_str='1331469194823487488', in_reply_to_user_id=2835317718, in_reply_to_user_id_str='2835317718', in_reply_to_screen_name='RVCJ_FB', author=User(_api=<tweepy.api.API object at 0x000002044AECAF88>, _json={'id': 1156221681167298561, 'id_str': '1156221681167298561', 'name': '_', 'screen_name': 'Thop_TarakisM', 'location': '𝔾𝕦𝕟𝕥𝕦𝕣 ', 'description': '@tarak9999 & @imVkohli For Life \\n\\n@OliviaUsweety to @Thop_TarakisM\\n\\n\\n\\n\\n\\n\\n\\n\\n\\n\\n\\n\\n\\n\\n\\n\\n\\n\\n\\n\\n\\n\\n\\n\\n\\n\\n\\n\\n\\n\\n\\n\\nAmma❤️💕\\nNanna❤️👑', 'url': None, 'entities': {'description': {'urls': []}}, 'protected': False, 'followers_count': 1516, 'friends_count': 1676, 'listed_count': 0, 'created_at': 'Tue Jul 30 15:15:05 +0000 2019', 'favourites_count': 30420, 'utc_offset': None, 'time_zone': None, 'geo_enabled': True, 'verified': False, 'statuses_count': 88760, 'lang': None, 'contributors_enabled': False, 'is_translator': False, 'is_translation_enabled': False, 'profile_background_color': 'F5F8FA', 'profile_background_image_url': None, 'profile_background_image_url_https': None, 'profile_background_tile': False, 'profile_image_url': 'http://pbs.twimg.com/profile_images/1329346390892236800/WLN7PJjv_normal.jpg', 'profile_image_url_https': 'https://pbs.twimg.com/profile_images/1329346390892236800/WLN7PJjv_normal.jpg', 'profile_banner_url': 'https://pbs.twimg.com/profile_banners/1156221681167298561/1603508157', 'profile_link_color': '1DA1F2', 'profile_sidebar_border_color': 'C0DEED', 'profile_sidebar_fill_color': 'DDEEF6', 'profile_text_color': '333333', 'profile_use_background_image': True, 'has_extended_profile': True, 'default_profile': True, 'default_profile_image': False, 'following': False, 'follow_request_sent': False, 'notifications': False, 'translator_type': 'none'}, id=1156221681167298561, id_str='1156221681167298561', name='_', screen_name='Thop_TarakisM', location='𝔾𝕦𝕟𝕥𝕦𝕣 ', description='@tarak9999 & @imVkohli For Life \\n\\n@OliviaUsweety to @Thop_TarakisM\\n\\n\\n\\n\\n\\n\\n\\n\\n\\n\\n\\n\\n\\n\\n\\n\\n\\n\\n\\n\\n\\n\\n\\n\\n\\n\\n\\n\\n\\n\\n\\n\\nAmma❤️💕\\nNanna❤️👑', url=None, entities={'description': {'urls': []}}, protected=False, followers_count=1516, friends_count=1676, listed_count=0, created_at=datetime.datetime(2019, 7, 30, 15, 15, 5), favourites_count=30420, utc_offset=None, time_zone=None, geo_enabled=True, verified=False, statuses_count=88760, lang=None, contributors_enabled=False, is_translator=False, is_translation_enabled=False, profile_background_color='F5F8FA', profile_background_image_url=None, profile_background_image_url_https=None, profile_background_tile=False, profile_image_url='http://pbs.twimg.com/profile_images/1329346390892236800/WLN7PJjv_normal.jpg', profile_image_url_https='https://pbs.twimg.com/profile_images/1329346390892236800/WLN7PJjv_normal.jpg', profile_banner_url='https://pbs.twimg.com/profile_banners/1156221681167298561/1603508157', profile_link_color='1DA1F2', profile_sidebar_border_color='C0DEED', profile_sidebar_fill_color='DDEEF6', profile_text_color='333333', profile_use_background_image=True, has_extended_profile=True, default_profile=True, default_profile_image=False, following=False, follow_request_sent=False, notifications=False, translator_type='none'), user=User(_api=<tweepy.api.API object at 0x000002044AECAF88>, _json={'id': 1156221681167298561, 'id_str': '1156221681167298561', 'name': '_', 'screen_name': 'Thop_TarakisM', 'location': '𝔾𝕦𝕟𝕥𝕦𝕣 ', 'description': '@tarak9999 & @imVkohli For Life \\n\\n@OliviaUsweety to @Thop_TarakisM\\n\\n\\n\\n\\n\\n\\n\\n\\n\\n\\n\\n\\n\\n\\n\\n\\n\\n\\n\\n\\n\\n\\n\\n\\n\\n\\n\\n\\n\\n\\n\\n\\nAmma❤️💕\\nNanna❤️👑', 'url': None, 'entities': {'description': {'urls': []}}, 'protected': False, 'followers_count': 1516, 'friends_count': 1676, 'listed_count': 0, 'created_at': 'Tue Jul 30 15:15:05 +0000 2019', 'favourites_count': 30420, 'utc_offset': None, 'time_zone': None, 'geo_enabled': True, 'verified': False, 'statuses_count': 88760, 'lang': None, 'contributors_enabled': False, 'is_translator': False, 'is_translation_enabled': False, 'profile_background_color': 'F5F8FA', 'profile_background_image_url': None, 'profile_background_image_url_https': None, 'profile_background_tile': False, 'profile_image_url': 'http://pbs.twimg.com/profile_images/1329346390892236800/WLN7PJjv_normal.jpg', 'profile_image_url_https': 'https://pbs.twimg.com/profile_images/1329346390892236800/WLN7PJjv_normal.jpg', 'profile_banner_url': 'https://pbs.twimg.com/profile_banners/1156221681167298561/1603508157', 'profile_link_color': '1DA1F2', 'profile_sidebar_border_color': 'C0DEED', 'profile_sidebar_fill_color': 'DDEEF6', 'profile_text_color': '333333', 'profile_use_background_image': True, 'has_extended_profile': True, 'default_profile': True, 'default_profile_image': False, 'following': False, 'follow_request_sent': False, 'notifications': False, 'translator_type': 'none'}, id=1156221681167298561, id_str='1156221681167298561', name='_', screen_name='Thop_TarakisM', location='𝔾𝕦𝕟𝕥𝕦𝕣 ', description='@tarak9999 & @imVkohli For Life \\n\\n@OliviaUsweety to @Thop_TarakisM\\n\\n\\n\\n\\n\\n\\n\\n\\n\\n\\n\\n\\n\\n\\n\\n\\n\\n\\n\\n\\n\\n\\n\\n\\n\\n\\n\\n\\n\\n\\n\\n\\nAmma❤️💕\\nNanna❤️👑', url=None, entities={'description': {'urls': []}}, protected=False, followers_count=1516, friends_count=1676, listed_count=0, created_at=datetime.datetime(2019, 7, 30, 15, 15, 5), favourites_count=30420, utc_offset=None, time_zone=None, geo_enabled=True, verified=False, statuses_count=88760, lang=None, contributors_enabled=False, is_translator=False, is_translation_enabled=False, profile_background_color='F5F8FA', profile_background_image_url=None, profile_background_image_url_https=None, profile_background_tile=False, profile_image_url='http://pbs.twimg.com/profile_images/1329346390892236800/WLN7PJjv_normal.jpg', profile_image_url_https='https://pbs.twimg.com/profile_images/1329346390892236800/WLN7PJjv_normal.jpg', profile_banner_url='https://pbs.twimg.com/profile_banners/1156221681167298561/1603508157', profile_link_color='1DA1F2', profile_sidebar_border_color='C0DEED', profile_sidebar_fill_color='DDEEF6', profile_text_color='333333', profile_use_background_image=True, has_extended_profile=True, default_profile=True, default_profile_image=False, following=False, follow_request_sent=False, notifications=False, translator_type='none'), geo=None, coordinates=None, place=None, contributors=None, is_quote_status=False, retweet_count=1, favorite_count=4, favorited=False, retweeted=False, lang='en') \n",
      "\n",
      ".....................................\n",
      "\n",
      "Status(_api=<tweepy.api.API object at 0x000002044AECAF88>, _json={'created_at': 'Wed Nov 25 05:39:57 +0000 2020', 'id': 1331472671519895552, 'id_str': '1331472671519895552', 'full_text': \"Look at MI squad and Rcb squad, mumbai's reason for winning is their squad not their captain and based on IPL which has been accused of match fixing i don't know how many times you cannot just take IPL's results and decide who should lead India in T20'S .\", 'truncated': False, 'display_text_range': [0, 255], 'entities': {'hashtags': [], 'symbols': [], 'user_mentions': [], 'urls': []}, 'metadata': {'iso_language_code': 'en', 'result_type': 'recent'}, 'source': '<a href=\"http://twitter.com/download/android\" rel=\"nofollow\">Twitter for Android</a>', 'in_reply_to_status_id': None, 'in_reply_to_status_id_str': None, 'in_reply_to_user_id': None, 'in_reply_to_user_id_str': None, 'in_reply_to_screen_name': None, 'user': {'id': 1054879464633450496, 'id_str': '1054879464633450496', 'name': 'Nikhil Choudhary', 'screen_name': 'NikhilC15457239', 'location': 'Vishakhapatnam, India', 'description': '', 'url': None, 'entities': {'description': {'urls': []}}, 'protected': False, 'followers_count': 7, 'friends_count': 18, 'listed_count': 0, 'created_at': 'Tue Oct 23 23:37:17 +0000 2018', 'favourites_count': 108, 'utc_offset': None, 'time_zone': None, 'geo_enabled': False, 'verified': False, 'statuses_count': 59, 'lang': None, 'contributors_enabled': False, 'is_translator': False, 'is_translation_enabled': False, 'profile_background_color': 'F5F8FA', 'profile_background_image_url': None, 'profile_background_image_url_https': None, 'profile_background_tile': False, 'profile_image_url': 'http://pbs.twimg.com/profile_images/1054882733434884096/xqIxI1i7_normal.jpg', 'profile_image_url_https': 'https://pbs.twimg.com/profile_images/1054882733434884096/xqIxI1i7_normal.jpg', 'profile_link_color': '1DA1F2', 'profile_sidebar_border_color': 'C0DEED', 'profile_sidebar_fill_color': 'DDEEF6', 'profile_text_color': '333333', 'profile_use_background_image': True, 'has_extended_profile': False, 'default_profile': True, 'default_profile_image': False, 'following': False, 'follow_request_sent': False, 'notifications': False, 'translator_type': 'none'}, 'geo': None, 'coordinates': None, 'place': None, 'contributors': None, 'is_quote_status': False, 'retweet_count': 0, 'favorite_count': 1, 'favorited': False, 'retweeted': False, 'lang': 'en'}, created_at=datetime.datetime(2020, 11, 25, 5, 39, 57), id=1331472671519895552, id_str='1331472671519895552', full_text=\"Look at MI squad and Rcb squad, mumbai's reason for winning is their squad not their captain and based on IPL which has been accused of match fixing i don't know how many times you cannot just take IPL's results and decide who should lead India in T20'S .\", truncated=False, display_text_range=[0, 255], entities={'hashtags': [], 'symbols': [], 'user_mentions': [], 'urls': []}, metadata={'iso_language_code': 'en', 'result_type': 'recent'}, source='Twitter for Android', source_url='http://twitter.com/download/android', in_reply_to_status_id=None, in_reply_to_status_id_str=None, in_reply_to_user_id=None, in_reply_to_user_id_str=None, in_reply_to_screen_name=None, author=User(_api=<tweepy.api.API object at 0x000002044AECAF88>, _json={'id': 1054879464633450496, 'id_str': '1054879464633450496', 'name': 'Nikhil Choudhary', 'screen_name': 'NikhilC15457239', 'location': 'Vishakhapatnam, India', 'description': '', 'url': None, 'entities': {'description': {'urls': []}}, 'protected': False, 'followers_count': 7, 'friends_count': 18, 'listed_count': 0, 'created_at': 'Tue Oct 23 23:37:17 +0000 2018', 'favourites_count': 108, 'utc_offset': None, 'time_zone': None, 'geo_enabled': False, 'verified': False, 'statuses_count': 59, 'lang': None, 'contributors_enabled': False, 'is_translator': False, 'is_translation_enabled': False, 'profile_background_color': 'F5F8FA', 'profile_background_image_url': None, 'profile_background_image_url_https': None, 'profile_background_tile': False, 'profile_image_url': 'http://pbs.twimg.com/profile_images/1054882733434884096/xqIxI1i7_normal.jpg', 'profile_image_url_https': 'https://pbs.twimg.com/profile_images/1054882733434884096/xqIxI1i7_normal.jpg', 'profile_link_color': '1DA1F2', 'profile_sidebar_border_color': 'C0DEED', 'profile_sidebar_fill_color': 'DDEEF6', 'profile_text_color': '333333', 'profile_use_background_image': True, 'has_extended_profile': False, 'default_profile': True, 'default_profile_image': False, 'following': False, 'follow_request_sent': False, 'notifications': False, 'translator_type': 'none'}, id=1054879464633450496, id_str='1054879464633450496', name='Nikhil Choudhary', screen_name='NikhilC15457239', location='Vishakhapatnam, India', description='', url=None, entities={'description': {'urls': []}}, protected=False, followers_count=7, friends_count=18, listed_count=0, created_at=datetime.datetime(2018, 10, 23, 23, 37, 17), favourites_count=108, utc_offset=None, time_zone=None, geo_enabled=False, verified=False, statuses_count=59, lang=None, contributors_enabled=False, is_translator=False, is_translation_enabled=False, profile_background_color='F5F8FA', profile_background_image_url=None, profile_background_image_url_https=None, profile_background_tile=False, profile_image_url='http://pbs.twimg.com/profile_images/1054882733434884096/xqIxI1i7_normal.jpg', profile_image_url_https='https://pbs.twimg.com/profile_images/1054882733434884096/xqIxI1i7_normal.jpg', profile_link_color='1DA1F2', profile_sidebar_border_color='C0DEED', profile_sidebar_fill_color='DDEEF6', profile_text_color='333333', profile_use_background_image=True, has_extended_profile=False, default_profile=True, default_profile_image=False, following=False, follow_request_sent=False, notifications=False, translator_type='none'), user=User(_api=<tweepy.api.API object at 0x000002044AECAF88>, _json={'id': 1054879464633450496, 'id_str': '1054879464633450496', 'name': 'Nikhil Choudhary', 'screen_name': 'NikhilC15457239', 'location': 'Vishakhapatnam, India', 'description': '', 'url': None, 'entities': {'description': {'urls': []}}, 'protected': False, 'followers_count': 7, 'friends_count': 18, 'listed_count': 0, 'created_at': 'Tue Oct 23 23:37:17 +0000 2018', 'favourites_count': 108, 'utc_offset': None, 'time_zone': None, 'geo_enabled': False, 'verified': False, 'statuses_count': 59, 'lang': None, 'contributors_enabled': False, 'is_translator': False, 'is_translation_enabled': False, 'profile_background_color': 'F5F8FA', 'profile_background_image_url': None, 'profile_background_image_url_https': None, 'profile_background_tile': False, 'profile_image_url': 'http://pbs.twimg.com/profile_images/1054882733434884096/xqIxI1i7_normal.jpg', 'profile_image_url_https': 'https://pbs.twimg.com/profile_images/1054882733434884096/xqIxI1i7_normal.jpg', 'profile_link_color': '1DA1F2', 'profile_sidebar_border_color': 'C0DEED', 'profile_sidebar_fill_color': 'DDEEF6', 'profile_text_color': '333333', 'profile_use_background_image': True, 'has_extended_profile': False, 'default_profile': True, 'default_profile_image': False, 'following': False, 'follow_request_sent': False, 'notifications': False, 'translator_type': 'none'}, id=1054879464633450496, id_str='1054879464633450496', name='Nikhil Choudhary', screen_name='NikhilC15457239', location='Vishakhapatnam, India', description='', url=None, entities={'description': {'urls': []}}, protected=False, followers_count=7, friends_count=18, listed_count=0, created_at=datetime.datetime(2018, 10, 23, 23, 37, 17), favourites_count=108, utc_offset=None, time_zone=None, geo_enabled=False, verified=False, statuses_count=59, lang=None, contributors_enabled=False, is_translator=False, is_translation_enabled=False, profile_background_color='F5F8FA', profile_background_image_url=None, profile_background_image_url_https=None, profile_background_tile=False, profile_image_url='http://pbs.twimg.com/profile_images/1054882733434884096/xqIxI1i7_normal.jpg', profile_image_url_https='https://pbs.twimg.com/profile_images/1054882733434884096/xqIxI1i7_normal.jpg', profile_link_color='1DA1F2', profile_sidebar_border_color='C0DEED', profile_sidebar_fill_color='DDEEF6', profile_text_color='333333', profile_use_background_image=True, has_extended_profile=False, default_profile=True, default_profile_image=False, following=False, follow_request_sent=False, notifications=False, translator_type='none'), geo=None, coordinates=None, place=None, contributors=None, is_quote_status=False, retweet_count=0, favorite_count=1, favorited=False, retweeted=False, lang='en') \n",
      "\n",
      ".....................................\n",
      "\n",
      "Status(_api=<tweepy.api.API object at 0x000002044AECAF88>, _json={'created_at': 'Tue Nov 24 07:58:06 +0000 2020', 'id': 1331145052882538504, 'id_str': '1331145052882538504', 'full_text': '@JofraArcher RCB winning the IPL?', 'truncated': False, 'display_text_range': [13, 33], 'entities': {'hashtags': [], 'symbols': [], 'user_mentions': [{'screen_name': 'JofraArcher', 'name': 'Jofra Archer', 'id': 290153781, 'id_str': '290153781', 'indices': [0, 12]}], 'urls': []}, 'metadata': {'iso_language_code': 'en', 'result_type': 'recent'}, 'source': '<a href=\"http://twitter.com/download/android\" rel=\"nofollow\">Twitter for Android</a>', 'in_reply_to_status_id': 1331142663538700288, 'in_reply_to_status_id_str': '1331142663538700288', 'in_reply_to_user_id': 290153781, 'in_reply_to_user_id_str': '290153781', 'in_reply_to_screen_name': 'JofraArcher', 'user': {'id': 1168468996661792769, 'id_str': '1168468996661792769', 'name': 'Gopii', 'screen_name': 'Majnu__', 'location': '', 'description': 'I wish there was a way to know you’re in the good old days, before you’ve actually left them.', 'url': None, 'entities': {'description': {'urls': []}}, 'protected': False, 'followers_count': 39, 'friends_count': 134, 'listed_count': 0, 'created_at': 'Mon Sep 02 10:21:55 +0000 2019', 'favourites_count': 1061, 'utc_offset': None, 'time_zone': None, 'geo_enabled': False, 'verified': False, 'statuses_count': 1863, 'lang': None, 'contributors_enabled': False, 'is_translator': False, 'is_translation_enabled': False, 'profile_background_color': 'F5F8FA', 'profile_background_image_url': None, 'profile_background_image_url_https': None, 'profile_background_tile': False, 'profile_image_url': 'http://pbs.twimg.com/profile_images/1253415393986637834/8kOkw3Qe_normal.jpg', 'profile_image_url_https': 'https://pbs.twimg.com/profile_images/1253415393986637834/8kOkw3Qe_normal.jpg', 'profile_banner_url': 'https://pbs.twimg.com/profile_banners/1168468996661792769/1586231394', 'profile_link_color': '1DA1F2', 'profile_sidebar_border_color': 'C0DEED', 'profile_sidebar_fill_color': 'DDEEF6', 'profile_text_color': '333333', 'profile_use_background_image': True, 'has_extended_profile': False, 'default_profile': True, 'default_profile_image': False, 'following': False, 'follow_request_sent': False, 'notifications': False, 'translator_type': 'none'}, 'geo': None, 'coordinates': None, 'place': None, 'contributors': None, 'is_quote_status': False, 'retweet_count': 0, 'favorite_count': 1, 'favorited': False, 'retweeted': False, 'lang': 'en'}, created_at=datetime.datetime(2020, 11, 24, 7, 58, 6), id=1331145052882538504, id_str='1331145052882538504', full_text='@JofraArcher RCB winning the IPL?', truncated=False, display_text_range=[13, 33], entities={'hashtags': [], 'symbols': [], 'user_mentions': [{'screen_name': 'JofraArcher', 'name': 'Jofra Archer', 'id': 290153781, 'id_str': '290153781', 'indices': [0, 12]}], 'urls': []}, metadata={'iso_language_code': 'en', 'result_type': 'recent'}, source='Twitter for Android', source_url='http://twitter.com/download/android', in_reply_to_status_id=1331142663538700288, in_reply_to_status_id_str='1331142663538700288', in_reply_to_user_id=290153781, in_reply_to_user_id_str='290153781', in_reply_to_screen_name='JofraArcher', author=User(_api=<tweepy.api.API object at 0x000002044AECAF88>, _json={'id': 1168468996661792769, 'id_str': '1168468996661792769', 'name': 'Gopii', 'screen_name': 'Majnu__', 'location': '', 'description': 'I wish there was a way to know you’re in the good old days, before you’ve actually left them.', 'url': None, 'entities': {'description': {'urls': []}}, 'protected': False, 'followers_count': 39, 'friends_count': 134, 'listed_count': 0, 'created_at': 'Mon Sep 02 10:21:55 +0000 2019', 'favourites_count': 1061, 'utc_offset': None, 'time_zone': None, 'geo_enabled': False, 'verified': False, 'statuses_count': 1863, 'lang': None, 'contributors_enabled': False, 'is_translator': False, 'is_translation_enabled': False, 'profile_background_color': 'F5F8FA', 'profile_background_image_url': None, 'profile_background_image_url_https': None, 'profile_background_tile': False, 'profile_image_url': 'http://pbs.twimg.com/profile_images/1253415393986637834/8kOkw3Qe_normal.jpg', 'profile_image_url_https': 'https://pbs.twimg.com/profile_images/1253415393986637834/8kOkw3Qe_normal.jpg', 'profile_banner_url': 'https://pbs.twimg.com/profile_banners/1168468996661792769/1586231394', 'profile_link_color': '1DA1F2', 'profile_sidebar_border_color': 'C0DEED', 'profile_sidebar_fill_color': 'DDEEF6', 'profile_text_color': '333333', 'profile_use_background_image': True, 'has_extended_profile': False, 'default_profile': True, 'default_profile_image': False, 'following': False, 'follow_request_sent': False, 'notifications': False, 'translator_type': 'none'}, id=1168468996661792769, id_str='1168468996661792769', name='Gopii', screen_name='Majnu__', location='', description='I wish there was a way to know you’re in the good old days, before you’ve actually left them.', url=None, entities={'description': {'urls': []}}, protected=False, followers_count=39, friends_count=134, listed_count=0, created_at=datetime.datetime(2019, 9, 2, 10, 21, 55), favourites_count=1061, utc_offset=None, time_zone=None, geo_enabled=False, verified=False, statuses_count=1863, lang=None, contributors_enabled=False, is_translator=False, is_translation_enabled=False, profile_background_color='F5F8FA', profile_background_image_url=None, profile_background_image_url_https=None, profile_background_tile=False, profile_image_url='http://pbs.twimg.com/profile_images/1253415393986637834/8kOkw3Qe_normal.jpg', profile_image_url_https='https://pbs.twimg.com/profile_images/1253415393986637834/8kOkw3Qe_normal.jpg', profile_banner_url='https://pbs.twimg.com/profile_banners/1168468996661792769/1586231394', profile_link_color='1DA1F2', profile_sidebar_border_color='C0DEED', profile_sidebar_fill_color='DDEEF6', profile_text_color='333333', profile_use_background_image=True, has_extended_profile=False, default_profile=True, default_profile_image=False, following=False, follow_request_sent=False, notifications=False, translator_type='none'), user=User(_api=<tweepy.api.API object at 0x000002044AECAF88>, _json={'id': 1168468996661792769, 'id_str': '1168468996661792769', 'name': 'Gopii', 'screen_name': 'Majnu__', 'location': '', 'description': 'I wish there was a way to know you’re in the good old days, before you’ve actually left them.', 'url': None, 'entities': {'description': {'urls': []}}, 'protected': False, 'followers_count': 39, 'friends_count': 134, 'listed_count': 0, 'created_at': 'Mon Sep 02 10:21:55 +0000 2019', 'favourites_count': 1061, 'utc_offset': None, 'time_zone': None, 'geo_enabled': False, 'verified': False, 'statuses_count': 1863, 'lang': None, 'contributors_enabled': False, 'is_translator': False, 'is_translation_enabled': False, 'profile_background_color': 'F5F8FA', 'profile_background_image_url': None, 'profile_background_image_url_https': None, 'profile_background_tile': False, 'profile_image_url': 'http://pbs.twimg.com/profile_images/1253415393986637834/8kOkw3Qe_normal.jpg', 'profile_image_url_https': 'https://pbs.twimg.com/profile_images/1253415393986637834/8kOkw3Qe_normal.jpg', 'profile_banner_url': 'https://pbs.twimg.com/profile_banners/1168468996661792769/1586231394', 'profile_link_color': '1DA1F2', 'profile_sidebar_border_color': 'C0DEED', 'profile_sidebar_fill_color': 'DDEEF6', 'profile_text_color': '333333', 'profile_use_background_image': True, 'has_extended_profile': False, 'default_profile': True, 'default_profile_image': False, 'following': False, 'follow_request_sent': False, 'notifications': False, 'translator_type': 'none'}, id=1168468996661792769, id_str='1168468996661792769', name='Gopii', screen_name='Majnu__', location='', description='I wish there was a way to know you’re in the good old days, before you’ve actually left them.', url=None, entities={'description': {'urls': []}}, protected=False, followers_count=39, friends_count=134, listed_count=0, created_at=datetime.datetime(2019, 9, 2, 10, 21, 55), favourites_count=1061, utc_offset=None, time_zone=None, geo_enabled=False, verified=False, statuses_count=1863, lang=None, contributors_enabled=False, is_translator=False, is_translation_enabled=False, profile_background_color='F5F8FA', profile_background_image_url=None, profile_background_image_url_https=None, profile_background_tile=False, profile_image_url='http://pbs.twimg.com/profile_images/1253415393986637834/8kOkw3Qe_normal.jpg', profile_image_url_https='https://pbs.twimg.com/profile_images/1253415393986637834/8kOkw3Qe_normal.jpg', profile_banner_url='https://pbs.twimg.com/profile_banners/1168468996661792769/1586231394', profile_link_color='1DA1F2', profile_sidebar_border_color='C0DEED', profile_sidebar_fill_color='DDEEF6', profile_text_color='333333', profile_use_background_image=True, has_extended_profile=False, default_profile=True, default_profile_image=False, following=False, follow_request_sent=False, notifications=False, translator_type='none'), geo=None, coordinates=None, place=None, contributors=None, is_quote_status=False, retweet_count=0, favorite_count=1, favorited=False, retweeted=False, lang='en') \n",
      "\n",
      ".....................................\n",
      "\n",
      "Status(_api=<tweepy.api.API object at 0x000002044AECAF88>, _json={'created_at': 'Tue Nov 24 06:12:06 +0000 2020', 'id': 1331118374932213760, 'id_str': '1331118374932213760', 'full_text': \"MI winning IPl has to do with their good management and their team rather than Rohit Sharma's captaincy. It was visible with them winning matches even when Pollard captained them.RCB's lack of titles is the lack of those two basically bad management and an imbalanced team. https://t.co/WddcVdhk0V\", 'truncated': False, 'display_text_range': [0, 273], 'entities': {'hashtags': [], 'symbols': [], 'user_mentions': [], 'urls': [{'url': 'https://t.co/WddcVdhk0V', 'expanded_url': 'https://twitter.com/StarSportsIndia/status/1330851131862306816', 'display_url': 'twitter.com/StarSportsIndi…', 'indices': [274, 297]}]}, 'metadata': {'iso_language_code': 'en', 'result_type': 'recent'}, 'source': '<a href=\"http://twitter.com/download/android\" rel=\"nofollow\">Twitter for Android</a>', 'in_reply_to_status_id': None, 'in_reply_to_status_id_str': None, 'in_reply_to_user_id': None, 'in_reply_to_user_id_str': None, 'in_reply_to_screen_name': None, 'user': {'id': 306821832, 'id_str': '306821832', 'name': 'dheeraj anikar 🎾', 'screen_name': 'anikar_dheeraj', 'location': '', 'description': 'Here for tennis and cricket. Fan of Novak Djokovic and Kohli. Always going to be a  seeker of truth, knowledge and wisdom.', 'url': None, 'entities': {'description': {'urls': []}}, 'protected': False, 'followers_count': 93, 'friends_count': 290, 'listed_count': 2, 'created_at': 'Sat May 28 14:16:59 +0000 2011', 'favourites_count': 5882, 'utc_offset': None, 'time_zone': None, 'geo_enabled': False, 'verified': False, 'statuses_count': 2253, 'lang': None, 'contributors_enabled': False, 'is_translator': False, 'is_translation_enabled': False, 'profile_background_color': '022330', 'profile_background_image_url': 'http://abs.twimg.com/images/themes/theme15/bg.png', 'profile_background_image_url_https': 'https://abs.twimg.com/images/themes/theme15/bg.png', 'profile_background_tile': False, 'profile_image_url': 'http://pbs.twimg.com/profile_images/1327547634383392769/stwM_wDR_normal.jpg', 'profile_image_url_https': 'https://pbs.twimg.com/profile_images/1327547634383392769/stwM_wDR_normal.jpg', 'profile_banner_url': 'https://pbs.twimg.com/profile_banners/306821832/1605347034', 'profile_link_color': '0084B4', 'profile_sidebar_border_color': 'A8C7F7', 'profile_sidebar_fill_color': 'C0DFEC', 'profile_text_color': '333333', 'profile_use_background_image': True, 'has_extended_profile': False, 'default_profile': False, 'default_profile_image': False, 'following': False, 'follow_request_sent': False, 'notifications': False, 'translator_type': 'none'}, 'geo': None, 'coordinates': None, 'place': None, 'contributors': None, 'is_quote_status': True, 'quoted_status_id': 1330851131862306816, 'quoted_status_id_str': '1330851131862306816', 'quoted_status': {'created_at': 'Mon Nov 23 12:30:10 +0000 2020', 'id': 1330851131862306816, 'id_str': '1330851131862306816', 'full_text': 'King Kohli or The Hitman? Our experts share their opinion on what is a hot topic among fans currently - Who should lead Team India in T20Is?\\n\\nTune-in to find out, on #CricketConnected!\\n\\nEvery Monday | 2 PM &amp; 9:30 PM | Star Sports Network &amp; Disney+Hotstar https://t.co/FL2mI2TJpV', 'truncated': False, 'display_text_range': [0, 262], 'entities': {'hashtags': [{'text': 'CricketConnected', 'indices': [166, 183]}], 'symbols': [], 'user_mentions': [], 'urls': [], 'media': [{'id': 1330851025914187776, 'id_str': '1330851025914187776', 'indices': [263, 286], 'media_url': 'http://pbs.twimg.com/amplify_video_thumb/1330851025914187776/img/Z1E0mblLvaAVfEa0.jpg', 'media_url_https': 'https://pbs.twimg.com/amplify_video_thumb/1330851025914187776/img/Z1E0mblLvaAVfEa0.jpg', 'url': 'https://t.co/FL2mI2TJpV', 'display_url': 'pic.twitter.com/FL2mI2TJpV', 'expanded_url': 'https://twitter.com/StarSportsIndia/status/1330851131862306816/video/1', 'type': 'photo', 'sizes': {'thumb': {'w': 150, 'h': 150, 'resize': 'crop'}, 'large': {'w': 1920, 'h': 1080, 'resize': 'fit'}, 'medium': {'w': 1200, 'h': 675, 'resize': 'fit'}, 'small': {'w': 680, 'h': 383, 'resize': 'fit'}}}]}, 'extended_entities': {'media': [{'id': 1330851025914187776, 'id_str': '1330851025914187776', 'indices': [263, 286], 'media_url': 'http://pbs.twimg.com/amplify_video_thumb/1330851025914187776/img/Z1E0mblLvaAVfEa0.jpg', 'media_url_https': 'https://pbs.twimg.com/amplify_video_thumb/1330851025914187776/img/Z1E0mblLvaAVfEa0.jpg', 'url': 'https://t.co/FL2mI2TJpV', 'display_url': 'pic.twitter.com/FL2mI2TJpV', 'expanded_url': 'https://twitter.com/StarSportsIndia/status/1330851131862306816/video/1', 'type': 'video', 'sizes': {'thumb': {'w': 150, 'h': 150, 'resize': 'crop'}, 'large': {'w': 1920, 'h': 1080, 'resize': 'fit'}, 'medium': {'w': 1200, 'h': 675, 'resize': 'fit'}, 'small': {'w': 680, 'h': 383, 'resize': 'fit'}}, 'video_info': {'aspect_ratio': [16, 9], 'duration_millis': 125800, 'variants': [{'content_type': 'application/x-mpegURL', 'url': 'https://video.twimg.com/amplify_video/1330851025914187776/pl/gpJWhHgH5IkG5YHe.m3u8?tag=13'}, {'bitrate': 288000, 'content_type': 'video/mp4', 'url': 'https://video.twimg.com/amplify_video/1330851025914187776/vid/480x270/yYMET8dtHr1rAWdK.mp4?tag=13'}, {'bitrate': 2176000, 'content_type': 'video/mp4', 'url': 'https://video.twimg.com/amplify_video/1330851025914187776/vid/1280x720/KU6ztYZUsVYZ1R62.mp4?tag=13'}, {'bitrate': 832000, 'content_type': 'video/mp4', 'url': 'https://video.twimg.com/amplify_video/1330851025914187776/vid/640x360/csv-6XOTR93syy8t.mp4?tag=13'}]}, 'additional_media_info': {'title': 'Cricket Connected - Experts share their views on T20I captaincy.mp4', 'description': '', 'monetizable': False}}]}, 'metadata': {'iso_language_code': 'en', 'result_type': 'recent'}, 'source': '<a href=\"https://www.sprinklr.com\" rel=\"nofollow\">Sprinklr</a>', 'in_reply_to_status_id': None, 'in_reply_to_status_id_str': None, 'in_reply_to_user_id': None, 'in_reply_to_user_id_str': None, 'in_reply_to_screen_name': None, 'user': {'id': 1026332905, 'id_str': '1026332905', 'name': 'Star Sports', 'screen_name': 'StarSportsIndia', 'location': 'India', 'description': 'Look no further if sports is your forte, head no further if you want to watch your favorite sport! Likes and RTs are not endorsements.', 'url': 'https://t.co/OoF3bQyysC', 'entities': {'url': {'urls': [{'url': 'https://t.co/OoF3bQyysC', 'expanded_url': 'http://www.hotstar.com/sports', 'display_url': 'hotstar.com/sports', 'indices': [0, 23]}]}, 'description': {'urls': []}}, 'protected': False, 'followers_count': 4646948, 'friends_count': 252, 'listed_count': 1061, 'created_at': 'Fri Dec 21 12:46:57 +0000 2012', 'favourites_count': 1145, 'utc_offset': None, 'time_zone': None, 'geo_enabled': True, 'verified': True, 'statuses_count': 135930, 'lang': None, 'contributors_enabled': False, 'is_translator': False, 'is_translation_enabled': False, 'profile_background_color': '000000', 'profile_background_image_url': 'http://abs.twimg.com/images/themes/theme14/bg.gif', 'profile_background_image_url_https': 'https://abs.twimg.com/images/themes/theme14/bg.gif', 'profile_background_tile': False, 'profile_image_url': 'http://pbs.twimg.com/profile_images/875393698195886080/vp03Mgqk_normal.jpg', 'profile_image_url_https': 'https://pbs.twimg.com/profile_images/875393698195886080/vp03Mgqk_normal.jpg', 'profile_banner_url': 'https://pbs.twimg.com/profile_banners/1026332905/1605072750', 'profile_link_color': '239E9E', 'profile_sidebar_border_color': '000000', 'profile_sidebar_fill_color': 'EFEFEF', 'profile_text_color': '333333', 'profile_use_background_image': False, 'has_extended_profile': False, 'default_profile': False, 'default_profile_image': False, 'following': False, 'follow_request_sent': False, 'notifications': False, 'translator_type': 'none'}, 'geo': None, 'coordinates': None, 'place': None, 'contributors': None, 'is_quote_status': False, 'retweet_count': 357, 'favorite_count': 2435, 'favorited': False, 'retweeted': False, 'possibly_sensitive': False, 'lang': 'en'}, 'retweet_count': 0, 'favorite_count': 2, 'favorited': False, 'retweeted': False, 'possibly_sensitive': False, 'lang': 'en'}, created_at=datetime.datetime(2020, 11, 24, 6, 12, 6), id=1331118374932213760, id_str='1331118374932213760', full_text=\"MI winning IPl has to do with their good management and their team rather than Rohit Sharma's captaincy. It was visible with them winning matches even when Pollard captained them.RCB's lack of titles is the lack of those two basically bad management and an imbalanced team. https://t.co/WddcVdhk0V\", truncated=False, display_text_range=[0, 273], entities={'hashtags': [], 'symbols': [], 'user_mentions': [], 'urls': [{'url': 'https://t.co/WddcVdhk0V', 'expanded_url': 'https://twitter.com/StarSportsIndia/status/1330851131862306816', 'display_url': 'twitter.com/StarSportsIndi…', 'indices': [274, 297]}]}, metadata={'iso_language_code': 'en', 'result_type': 'recent'}, source='Twitter for Android', source_url='http://twitter.com/download/android', in_reply_to_status_id=None, in_reply_to_status_id_str=None, in_reply_to_user_id=None, in_reply_to_user_id_str=None, in_reply_to_screen_name=None, author=User(_api=<tweepy.api.API object at 0x000002044AECAF88>, _json={'id': 306821832, 'id_str': '306821832', 'name': 'dheeraj anikar 🎾', 'screen_name': 'anikar_dheeraj', 'location': '', 'description': 'Here for tennis and cricket. Fan of Novak Djokovic and Kohli. Always going to be a  seeker of truth, knowledge and wisdom.', 'url': None, 'entities': {'description': {'urls': []}}, 'protected': False, 'followers_count': 93, 'friends_count': 290, 'listed_count': 2, 'created_at': 'Sat May 28 14:16:59 +0000 2011', 'favourites_count': 5882, 'utc_offset': None, 'time_zone': None, 'geo_enabled': False, 'verified': False, 'statuses_count': 2253, 'lang': None, 'contributors_enabled': False, 'is_translator': False, 'is_translation_enabled': False, 'profile_background_color': '022330', 'profile_background_image_url': 'http://abs.twimg.com/images/themes/theme15/bg.png', 'profile_background_image_url_https': 'https://abs.twimg.com/images/themes/theme15/bg.png', 'profile_background_tile': False, 'profile_image_url': 'http://pbs.twimg.com/profile_images/1327547634383392769/stwM_wDR_normal.jpg', 'profile_image_url_https': 'https://pbs.twimg.com/profile_images/1327547634383392769/stwM_wDR_normal.jpg', 'profile_banner_url': 'https://pbs.twimg.com/profile_banners/306821832/1605347034', 'profile_link_color': '0084B4', 'profile_sidebar_border_color': 'A8C7F7', 'profile_sidebar_fill_color': 'C0DFEC', 'profile_text_color': '333333', 'profile_use_background_image': True, 'has_extended_profile': False, 'default_profile': False, 'default_profile_image': False, 'following': False, 'follow_request_sent': False, 'notifications': False, 'translator_type': 'none'}, id=306821832, id_str='306821832', name='dheeraj anikar 🎾', screen_name='anikar_dheeraj', location='', description='Here for tennis and cricket. Fan of Novak Djokovic and Kohli. Always going to be a  seeker of truth, knowledge and wisdom.', url=None, entities={'description': {'urls': []}}, protected=False, followers_count=93, friends_count=290, listed_count=2, created_at=datetime.datetime(2011, 5, 28, 14, 16, 59), favourites_count=5882, utc_offset=None, time_zone=None, geo_enabled=False, verified=False, statuses_count=2253, lang=None, contributors_enabled=False, is_translator=False, is_translation_enabled=False, profile_background_color='022330', profile_background_image_url='http://abs.twimg.com/images/themes/theme15/bg.png', profile_background_image_url_https='https://abs.twimg.com/images/themes/theme15/bg.png', profile_background_tile=False, profile_image_url='http://pbs.twimg.com/profile_images/1327547634383392769/stwM_wDR_normal.jpg', profile_image_url_https='https://pbs.twimg.com/profile_images/1327547634383392769/stwM_wDR_normal.jpg', profile_banner_url='https://pbs.twimg.com/profile_banners/306821832/1605347034', profile_link_color='0084B4', profile_sidebar_border_color='A8C7F7', profile_sidebar_fill_color='C0DFEC', profile_text_color='333333', profile_use_background_image=True, has_extended_profile=False, default_profile=False, default_profile_image=False, following=False, follow_request_sent=False, notifications=False, translator_type='none'), user=User(_api=<tweepy.api.API object at 0x000002044AECAF88>, _json={'id': 306821832, 'id_str': '306821832', 'name': 'dheeraj anikar 🎾', 'screen_name': 'anikar_dheeraj', 'location': '', 'description': 'Here for tennis and cricket. Fan of Novak Djokovic and Kohli. Always going to be a  seeker of truth, knowledge and wisdom.', 'url': None, 'entities': {'description': {'urls': []}}, 'protected': False, 'followers_count': 93, 'friends_count': 290, 'listed_count': 2, 'created_at': 'Sat May 28 14:16:59 +0000 2011', 'favourites_count': 5882, 'utc_offset': None, 'time_zone': None, 'geo_enabled': False, 'verified': False, 'statuses_count': 2253, 'lang': None, 'contributors_enabled': False, 'is_translator': False, 'is_translation_enabled': False, 'profile_background_color': '022330', 'profile_background_image_url': 'http://abs.twimg.com/images/themes/theme15/bg.png', 'profile_background_image_url_https': 'https://abs.twimg.com/images/themes/theme15/bg.png', 'profile_background_tile': False, 'profile_image_url': 'http://pbs.twimg.com/profile_images/1327547634383392769/stwM_wDR_normal.jpg', 'profile_image_url_https': 'https://pbs.twimg.com/profile_images/1327547634383392769/stwM_wDR_normal.jpg', 'profile_banner_url': 'https://pbs.twimg.com/profile_banners/306821832/1605347034', 'profile_link_color': '0084B4', 'profile_sidebar_border_color': 'A8C7F7', 'profile_sidebar_fill_color': 'C0DFEC', 'profile_text_color': '333333', 'profile_use_background_image': True, 'has_extended_profile': False, 'default_profile': False, 'default_profile_image': False, 'following': False, 'follow_request_sent': False, 'notifications': False, 'translator_type': 'none'}, id=306821832, id_str='306821832', name='dheeraj anikar 🎾', screen_name='anikar_dheeraj', location='', description='Here for tennis and cricket. Fan of Novak Djokovic and Kohli. Always going to be a  seeker of truth, knowledge and wisdom.', url=None, entities={'description': {'urls': []}}, protected=False, followers_count=93, friends_count=290, listed_count=2, created_at=datetime.datetime(2011, 5, 28, 14, 16, 59), favourites_count=5882, utc_offset=None, time_zone=None, geo_enabled=False, verified=False, statuses_count=2253, lang=None, contributors_enabled=False, is_translator=False, is_translation_enabled=False, profile_background_color='022330', profile_background_image_url='http://abs.twimg.com/images/themes/theme15/bg.png', profile_background_image_url_https='https://abs.twimg.com/images/themes/theme15/bg.png', profile_background_tile=False, profile_image_url='http://pbs.twimg.com/profile_images/1327547634383392769/stwM_wDR_normal.jpg', profile_image_url_https='https://pbs.twimg.com/profile_images/1327547634383392769/stwM_wDR_normal.jpg', profile_banner_url='https://pbs.twimg.com/profile_banners/306821832/1605347034', profile_link_color='0084B4', profile_sidebar_border_color='A8C7F7', profile_sidebar_fill_color='C0DFEC', profile_text_color='333333', profile_use_background_image=True, has_extended_profile=False, default_profile=False, default_profile_image=False, following=False, follow_request_sent=False, notifications=False, translator_type='none'), geo=None, coordinates=None, place=None, contributors=None, is_quote_status=True, quoted_status_id=1330851131862306816, quoted_status_id_str='1330851131862306816', quoted_status=Status(_api=<tweepy.api.API object at 0x000002044AECAF88>, _json={'created_at': 'Mon Nov 23 12:30:10 +0000 2020', 'id': 1330851131862306816, 'id_str': '1330851131862306816', 'full_text': 'King Kohli or The Hitman? Our experts share their opinion on what is a hot topic among fans currently - Who should lead Team India in T20Is?\\n\\nTune-in to find out, on #CricketConnected!\\n\\nEvery Monday | 2 PM &amp; 9:30 PM | Star Sports Network &amp; Disney+Hotstar https://t.co/FL2mI2TJpV', 'truncated': False, 'display_text_range': [0, 262], 'entities': {'hashtags': [{'text': 'CricketConnected', 'indices': [166, 183]}], 'symbols': [], 'user_mentions': [], 'urls': [], 'media': [{'id': 1330851025914187776, 'id_str': '1330851025914187776', 'indices': [263, 286], 'media_url': 'http://pbs.twimg.com/amplify_video_thumb/1330851025914187776/img/Z1E0mblLvaAVfEa0.jpg', 'media_url_https': 'https://pbs.twimg.com/amplify_video_thumb/1330851025914187776/img/Z1E0mblLvaAVfEa0.jpg', 'url': 'https://t.co/FL2mI2TJpV', 'display_url': 'pic.twitter.com/FL2mI2TJpV', 'expanded_url': 'https://twitter.com/StarSportsIndia/status/1330851131862306816/video/1', 'type': 'photo', 'sizes': {'thumb': {'w': 150, 'h': 150, 'resize': 'crop'}, 'large': {'w': 1920, 'h': 1080, 'resize': 'fit'}, 'medium': {'w': 1200, 'h': 675, 'resize': 'fit'}, 'small': {'w': 680, 'h': 383, 'resize': 'fit'}}}]}, 'extended_entities': {'media': [{'id': 1330851025914187776, 'id_str': '1330851025914187776', 'indices': [263, 286], 'media_url': 'http://pbs.twimg.com/amplify_video_thumb/1330851025914187776/img/Z1E0mblLvaAVfEa0.jpg', 'media_url_https': 'https://pbs.twimg.com/amplify_video_thumb/1330851025914187776/img/Z1E0mblLvaAVfEa0.jpg', 'url': 'https://t.co/FL2mI2TJpV', 'display_url': 'pic.twitter.com/FL2mI2TJpV', 'expanded_url': 'https://twitter.com/StarSportsIndia/status/1330851131862306816/video/1', 'type': 'video', 'sizes': {'thumb': {'w': 150, 'h': 150, 'resize': 'crop'}, 'large': {'w': 1920, 'h': 1080, 'resize': 'fit'}, 'medium': {'w': 1200, 'h': 675, 'resize': 'fit'}, 'small': {'w': 680, 'h': 383, 'resize': 'fit'}}, 'video_info': {'aspect_ratio': [16, 9], 'duration_millis': 125800, 'variants': [{'content_type': 'application/x-mpegURL', 'url': 'https://video.twimg.com/amplify_video/1330851025914187776/pl/gpJWhHgH5IkG5YHe.m3u8?tag=13'}, {'bitrate': 288000, 'content_type': 'video/mp4', 'url': 'https://video.twimg.com/amplify_video/1330851025914187776/vid/480x270/yYMET8dtHr1rAWdK.mp4?tag=13'}, {'bitrate': 2176000, 'content_type': 'video/mp4', 'url': 'https://video.twimg.com/amplify_video/1330851025914187776/vid/1280x720/KU6ztYZUsVYZ1R62.mp4?tag=13'}, {'bitrate': 832000, 'content_type': 'video/mp4', 'url': 'https://video.twimg.com/amplify_video/1330851025914187776/vid/640x360/csv-6XOTR93syy8t.mp4?tag=13'}]}, 'additional_media_info': {'title': 'Cricket Connected - Experts share their views on T20I captaincy.mp4', 'description': '', 'monetizable': False}}]}, 'metadata': {'iso_language_code': 'en', 'result_type': 'recent'}, 'source': '<a href=\"https://www.sprinklr.com\" rel=\"nofollow\">Sprinklr</a>', 'in_reply_to_status_id': None, 'in_reply_to_status_id_str': None, 'in_reply_to_user_id': None, 'in_reply_to_user_id_str': None, 'in_reply_to_screen_name': None, 'user': {'id': 1026332905, 'id_str': '1026332905', 'name': 'Star Sports', 'screen_name': 'StarSportsIndia', 'location': 'India', 'description': 'Look no further if sports is your forte, head no further if you want to watch your favorite sport! Likes and RTs are not endorsements.', 'url': 'https://t.co/OoF3bQyysC', 'entities': {'url': {'urls': [{'url': 'https://t.co/OoF3bQyysC', 'expanded_url': 'http://www.hotstar.com/sports', 'display_url': 'hotstar.com/sports', 'indices': [0, 23]}]}, 'description': {'urls': []}}, 'protected': False, 'followers_count': 4646948, 'friends_count': 252, 'listed_count': 1061, 'created_at': 'Fri Dec 21 12:46:57 +0000 2012', 'favourites_count': 1145, 'utc_offset': None, 'time_zone': None, 'geo_enabled': True, 'verified': True, 'statuses_count': 135930, 'lang': None, 'contributors_enabled': False, 'is_translator': False, 'is_translation_enabled': False, 'profile_background_color': '000000', 'profile_background_image_url': 'http://abs.twimg.com/images/themes/theme14/bg.gif', 'profile_background_image_url_https': 'https://abs.twimg.com/images/themes/theme14/bg.gif', 'profile_background_tile': False, 'profile_image_url': 'http://pbs.twimg.com/profile_images/875393698195886080/vp03Mgqk_normal.jpg', 'profile_image_url_https': 'https://pbs.twimg.com/profile_images/875393698195886080/vp03Mgqk_normal.jpg', 'profile_banner_url': 'https://pbs.twimg.com/profile_banners/1026332905/1605072750', 'profile_link_color': '239E9E', 'profile_sidebar_border_color': '000000', 'profile_sidebar_fill_color': 'EFEFEF', 'profile_text_color': '333333', 'profile_use_background_image': False, 'has_extended_profile': False, 'default_profile': False, 'default_profile_image': False, 'following': False, 'follow_request_sent': False, 'notifications': False, 'translator_type': 'none'}, 'geo': None, 'coordinates': None, 'place': None, 'contributors': None, 'is_quote_status': False, 'retweet_count': 357, 'favorite_count': 2435, 'favorited': False, 'retweeted': False, 'possibly_sensitive': False, 'lang': 'en'}, created_at=datetime.datetime(2020, 11, 23, 12, 30, 10), id=1330851131862306816, id_str='1330851131862306816', full_text='King Kohli or The Hitman? Our experts share their opinion on what is a hot topic among fans currently - Who should lead Team India in T20Is?\\n\\nTune-in to find out, on #CricketConnected!\\n\\nEvery Monday | 2 PM &amp; 9:30 PM | Star Sports Network &amp; Disney+Hotstar https://t.co/FL2mI2TJpV', truncated=False, display_text_range=[0, 262], entities={'hashtags': [{'text': 'CricketConnected', 'indices': [166, 183]}], 'symbols': [], 'user_mentions': [], 'urls': [], 'media': [{'id': 1330851025914187776, 'id_str': '1330851025914187776', 'indices': [263, 286], 'media_url': 'http://pbs.twimg.com/amplify_video_thumb/1330851025914187776/img/Z1E0mblLvaAVfEa0.jpg', 'media_url_https': 'https://pbs.twimg.com/amplify_video_thumb/1330851025914187776/img/Z1E0mblLvaAVfEa0.jpg', 'url': 'https://t.co/FL2mI2TJpV', 'display_url': 'pic.twitter.com/FL2mI2TJpV', 'expanded_url': 'https://twitter.com/StarSportsIndia/status/1330851131862306816/video/1', 'type': 'photo', 'sizes': {'thumb': {'w': 150, 'h': 150, 'resize': 'crop'}, 'large': {'w': 1920, 'h': 1080, 'resize': 'fit'}, 'medium': {'w': 1200, 'h': 675, 'resize': 'fit'}, 'small': {'w': 680, 'h': 383, 'resize': 'fit'}}}]}, extended_entities={'media': [{'id': 1330851025914187776, 'id_str': '1330851025914187776', 'indices': [263, 286], 'media_url': 'http://pbs.twimg.com/amplify_video_thumb/1330851025914187776/img/Z1E0mblLvaAVfEa0.jpg', 'media_url_https': 'https://pbs.twimg.com/amplify_video_thumb/1330851025914187776/img/Z1E0mblLvaAVfEa0.jpg', 'url': 'https://t.co/FL2mI2TJpV', 'display_url': 'pic.twitter.com/FL2mI2TJpV', 'expanded_url': 'https://twitter.com/StarSportsIndia/status/1330851131862306816/video/1', 'type': 'video', 'sizes': {'thumb': {'w': 150, 'h': 150, 'resize': 'crop'}, 'large': {'w': 1920, 'h': 1080, 'resize': 'fit'}, 'medium': {'w': 1200, 'h': 675, 'resize': 'fit'}, 'small': {'w': 680, 'h': 383, 'resize': 'fit'}}, 'video_info': {'aspect_ratio': [16, 9], 'duration_millis': 125800, 'variants': [{'content_type': 'application/x-mpegURL', 'url': 'https://video.twimg.com/amplify_video/1330851025914187776/pl/gpJWhHgH5IkG5YHe.m3u8?tag=13'}, {'bitrate': 288000, 'content_type': 'video/mp4', 'url': 'https://video.twimg.com/amplify_video/1330851025914187776/vid/480x270/yYMET8dtHr1rAWdK.mp4?tag=13'}, {'bitrate': 2176000, 'content_type': 'video/mp4', 'url': 'https://video.twimg.com/amplify_video/1330851025914187776/vid/1280x720/KU6ztYZUsVYZ1R62.mp4?tag=13'}, {'bitrate': 832000, 'content_type': 'video/mp4', 'url': 'https://video.twimg.com/amplify_video/1330851025914187776/vid/640x360/csv-6XOTR93syy8t.mp4?tag=13'}]}, 'additional_media_info': {'title': 'Cricket Connected - Experts share their views on T20I captaincy.mp4', 'description': '', 'monetizable': False}}]}, metadata={'iso_language_code': 'en', 'result_type': 'recent'}, source='Sprinklr', source_url='https://www.sprinklr.com', in_reply_to_status_id=None, in_reply_to_status_id_str=None, in_reply_to_user_id=None, in_reply_to_user_id_str=None, in_reply_to_screen_name=None, author=User(_api=<tweepy.api.API object at 0x000002044AECAF88>, _json={'id': 1026332905, 'id_str': '1026332905', 'name': 'Star Sports', 'screen_name': 'StarSportsIndia', 'location': 'India', 'description': 'Look no further if sports is your forte, head no further if you want to watch your favorite sport! Likes and RTs are not endorsements.', 'url': 'https://t.co/OoF3bQyysC', 'entities': {'url': {'urls': [{'url': 'https://t.co/OoF3bQyysC', 'expanded_url': 'http://www.hotstar.com/sports', 'display_url': 'hotstar.com/sports', 'indices': [0, 23]}]}, 'description': {'urls': []}}, 'protected': False, 'followers_count': 4646948, 'friends_count': 252, 'listed_count': 1061, 'created_at': 'Fri Dec 21 12:46:57 +0000 2012', 'favourites_count': 1145, 'utc_offset': None, 'time_zone': None, 'geo_enabled': True, 'verified': True, 'statuses_count': 135930, 'lang': None, 'contributors_enabled': False, 'is_translator': False, 'is_translation_enabled': False, 'profile_background_color': '000000', 'profile_background_image_url': 'http://abs.twimg.com/images/themes/theme14/bg.gif', 'profile_background_image_url_https': 'https://abs.twimg.com/images/themes/theme14/bg.gif', 'profile_background_tile': False, 'profile_image_url': 'http://pbs.twimg.com/profile_images/875393698195886080/vp03Mgqk_normal.jpg', 'profile_image_url_https': 'https://pbs.twimg.com/profile_images/875393698195886080/vp03Mgqk_normal.jpg', 'profile_banner_url': 'https://pbs.twimg.com/profile_banners/1026332905/1605072750', 'profile_link_color': '239E9E', 'profile_sidebar_border_color': '000000', 'profile_sidebar_fill_color': 'EFEFEF', 'profile_text_color': '333333', 'profile_use_background_image': False, 'has_extended_profile': False, 'default_profile': False, 'default_profile_image': False, 'following': False, 'follow_request_sent': False, 'notifications': False, 'translator_type': 'none'}, id=1026332905, id_str='1026332905', name='Star Sports', screen_name='StarSportsIndia', location='India', description='Look no further if sports is your forte, head no further if you want to watch your favorite sport! Likes and RTs are not endorsements.', url='https://t.co/OoF3bQyysC', entities={'url': {'urls': [{'url': 'https://t.co/OoF3bQyysC', 'expanded_url': 'http://www.hotstar.com/sports', 'display_url': 'hotstar.com/sports', 'indices': [0, 23]}]}, 'description': {'urls': []}}, protected=False, followers_count=4646948, friends_count=252, listed_count=1061, created_at=datetime.datetime(2012, 12, 21, 12, 46, 57), favourites_count=1145, utc_offset=None, time_zone=None, geo_enabled=True, verified=True, statuses_count=135930, lang=None, contributors_enabled=False, is_translator=False, is_translation_enabled=False, profile_background_color='000000', profile_background_image_url='http://abs.twimg.com/images/themes/theme14/bg.gif', profile_background_image_url_https='https://abs.twimg.com/images/themes/theme14/bg.gif', profile_background_tile=False, profile_image_url='http://pbs.twimg.com/profile_images/875393698195886080/vp03Mgqk_normal.jpg', profile_image_url_https='https://pbs.twimg.com/profile_images/875393698195886080/vp03Mgqk_normal.jpg', profile_banner_url='https://pbs.twimg.com/profile_banners/1026332905/1605072750', profile_link_color='239E9E', profile_sidebar_border_color='000000', profile_sidebar_fill_color='EFEFEF', profile_text_color='333333', profile_use_background_image=False, has_extended_profile=False, default_profile=False, default_profile_image=False, following=False, follow_request_sent=False, notifications=False, translator_type='none'), user=User(_api=<tweepy.api.API object at 0x000002044AECAF88>, _json={'id': 1026332905, 'id_str': '1026332905', 'name': 'Star Sports', 'screen_name': 'StarSportsIndia', 'location': 'India', 'description': 'Look no further if sports is your forte, head no further if you want to watch your favorite sport! Likes and RTs are not endorsements.', 'url': 'https://t.co/OoF3bQyysC', 'entities': {'url': {'urls': [{'url': 'https://t.co/OoF3bQyysC', 'expanded_url': 'http://www.hotstar.com/sports', 'display_url': 'hotstar.com/sports', 'indices': [0, 23]}]}, 'description': {'urls': []}}, 'protected': False, 'followers_count': 4646948, 'friends_count': 252, 'listed_count': 1061, 'created_at': 'Fri Dec 21 12:46:57 +0000 2012', 'favourites_count': 1145, 'utc_offset': None, 'time_zone': None, 'geo_enabled': True, 'verified': True, 'statuses_count': 135930, 'lang': None, 'contributors_enabled': False, 'is_translator': False, 'is_translation_enabled': False, 'profile_background_color': '000000', 'profile_background_image_url': 'http://abs.twimg.com/images/themes/theme14/bg.gif', 'profile_background_image_url_https': 'https://abs.twimg.com/images/themes/theme14/bg.gif', 'profile_background_tile': False, 'profile_image_url': 'http://pbs.twimg.com/profile_images/875393698195886080/vp03Mgqk_normal.jpg', 'profile_image_url_https': 'https://pbs.twimg.com/profile_images/875393698195886080/vp03Mgqk_normal.jpg', 'profile_banner_url': 'https://pbs.twimg.com/profile_banners/1026332905/1605072750', 'profile_link_color': '239E9E', 'profile_sidebar_border_color': '000000', 'profile_sidebar_fill_color': 'EFEFEF', 'profile_text_color': '333333', 'profile_use_background_image': False, 'has_extended_profile': False, 'default_profile': False, 'default_profile_image': False, 'following': False, 'follow_request_sent': False, 'notifications': False, 'translator_type': 'none'}, id=1026332905, id_str='1026332905', name='Star Sports', screen_name='StarSportsIndia', location='India', description='Look no further if sports is your forte, head no further if you want to watch your favorite sport! Likes and RTs are not endorsements.', url='https://t.co/OoF3bQyysC', entities={'url': {'urls': [{'url': 'https://t.co/OoF3bQyysC', 'expanded_url': 'http://www.hotstar.com/sports', 'display_url': 'hotstar.com/sports', 'indices': [0, 23]}]}, 'description': {'urls': []}}, protected=False, followers_count=4646948, friends_count=252, listed_count=1061, created_at=datetime.datetime(2012, 12, 21, 12, 46, 57), favourites_count=1145, utc_offset=None, time_zone=None, geo_enabled=True, verified=True, statuses_count=135930, lang=None, contributors_enabled=False, is_translator=False, is_translation_enabled=False, profile_background_color='000000', profile_background_image_url='http://abs.twimg.com/images/themes/theme14/bg.gif', profile_background_image_url_https='https://abs.twimg.com/images/themes/theme14/bg.gif', profile_background_tile=False, profile_image_url='http://pbs.twimg.com/profile_images/875393698195886080/vp03Mgqk_normal.jpg', profile_image_url_https='https://pbs.twimg.com/profile_images/875393698195886080/vp03Mgqk_normal.jpg', profile_banner_url='https://pbs.twimg.com/profile_banners/1026332905/1605072750', profile_link_color='239E9E', profile_sidebar_border_color='000000', profile_sidebar_fill_color='EFEFEF', profile_text_color='333333', profile_use_background_image=False, has_extended_profile=False, default_profile=False, default_profile_image=False, following=False, follow_request_sent=False, notifications=False, translator_type='none'), geo=None, coordinates=None, place=None, contributors=None, is_quote_status=False, retweet_count=357, favorite_count=2435, favorited=False, retweeted=False, possibly_sensitive=False, lang='en'), retweet_count=0, favorite_count=2, favorited=False, retweeted=False, possibly_sensitive=False, lang='en') \n",
      "\n",
      ".....................................\n",
      "\n"
     ]
    }
   ],
   "source": [
    "Tweets = api.search( query , count=10 , lang='en' , exclude='retweets' , tweet_mode='extended' )\n",
    "# tweet_mode='extended'\n",
    "# tweet_mode='compat'\n",
    "\n",
    "for tweet in Tweets:\n",
    "    print(tweet,\"\\n\")\n",
    "    print(\".....................................\\n\")"
   ]
  },
  {
   "cell_type": "raw",
   "metadata": {},
   "source": [
    "Get the tweets and some Attributes"
   ]
  },
  {
   "cell_type": "code",
   "execution_count": 8,
   "metadata": {},
   "outputs": [
    {
     "name": "stdout",
     "output_type": "stream",
     "text": [
      "Empty DataFrame\n",
      "Columns: [Tweets, User, User_statuses_count, user_followers, User_location, User_verified, fav_count, rt_count, tweet_date]\n",
      "Index: []\n"
     ]
    }
   ],
   "source": [
    "df = pd.DataFrame(columns = ['Tweets' , 'User' , 'User_statuses_count' , \n",
    "                            'user_followers' , 'User_location' , 'User_verified' ,\n",
    "                            'fav_count' , 'rt_count' , 'tweet_date'] )\n",
    "print(df)\n",
    "# print(df.shape)"
   ]
  },
  {
   "cell_type": "code",
   "execution_count": 9,
   "metadata": {},
   "outputs": [],
   "source": [
    "def stream(data, file_name):\n",
    "    i = 0\n",
    "    for tweet in tweepy.Cursor(api.search, q=data, count=100, lang='en').items():\n",
    "        print(i, end='\\r')\n",
    "        df.loc[i, 'Tweets'] = tweet.text\n",
    "        df.loc[i, 'User'] = tweet.user.name\n",
    "        df.loc[i, 'User_statuses_count'] = tweet.user.statuses_count\n",
    "        df.loc[i, 'user_followers'] = tweet.user.followers_count\n",
    "        df.loc[i, 'User_location'] = tweet.user.location\n",
    "        df.loc[i, 'User_verified'] = tweet.user.verified\n",
    "        df.loc[i, 'fav_count'] = tweet.favorite_count\n",
    "        df.loc[i, 'rt_count'] = tweet.retweet_count\n",
    "        df.loc[i, 'tweet_date'] = tweet.created_at\n",
    "        df.to_excel('{}.xlsx'.format(file_name))\n",
    "        i = i+1\n",
    "        if i == 1000:\n",
    "            break\n",
    "        else:\n",
    "            pass"
   ]
  },
  {
   "cell_type": "code",
   "execution_count": 10,
   "metadata": {},
   "outputs": [
    {
     "name": "stdout",
     "output_type": "stream",
     "text": [
      "36\r"
     ]
    }
   ],
   "source": [
    "stream(data=[\"RCB winning IPL\"] , file_name='my_tweets')"
   ]
  },
  {
   "cell_type": "code",
   "execution_count": 11,
   "metadata": {},
   "outputs": [
    {
     "data": {
      "text/html": [
       "<div>\n",
       "<style scoped>\n",
       "    .dataframe tbody tr th:only-of-type {\n",
       "        vertical-align: middle;\n",
       "    }\n",
       "\n",
       "    .dataframe tbody tr th {\n",
       "        vertical-align: top;\n",
       "    }\n",
       "\n",
       "    .dataframe thead th {\n",
       "        text-align: right;\n",
       "    }\n",
       "</style>\n",
       "<table border=\"1\" class=\"dataframe\">\n",
       "  <thead>\n",
       "    <tr style=\"text-align: right;\">\n",
       "      <th></th>\n",
       "      <th>Tweets</th>\n",
       "      <th>User</th>\n",
       "      <th>User_statuses_count</th>\n",
       "      <th>user_followers</th>\n",
       "      <th>User_location</th>\n",
       "      <th>User_verified</th>\n",
       "      <th>fav_count</th>\n",
       "      <th>rt_count</th>\n",
       "      <th>tweet_date</th>\n",
       "    </tr>\n",
       "  </thead>\n",
       "  <tbody>\n",
       "    <tr>\n",
       "      <th>0</th>\n",
       "      <td>@rajasthanroyals @JofraArcher Congratulations ...</td>\n",
       "      <td>Jindal</td>\n",
       "      <td>56</td>\n",
       "      <td>13</td>\n",
       "      <td>India</td>\n",
       "      <td>False</td>\n",
       "      <td>2</td>\n",
       "      <td>0</td>\n",
       "      <td>2020-11-26 13:36:33</td>\n",
       "    </tr>\n",
       "    <tr>\n",
       "      <th>1</th>\n",
       "      <td>@rajasthanroyals @JofraArcher Rcb winning ipl ...</td>\n",
       "      <td>jiya♡ // ✨</td>\n",
       "      <td>7931</td>\n",
       "      <td>170</td>\n",
       "      <td></td>\n",
       "      <td>False</td>\n",
       "      <td>0</td>\n",
       "      <td>0</td>\n",
       "      <td>2020-11-26 13:28:04</td>\n",
       "    </tr>\n",
       "    <tr>\n",
       "      <th>2</th>\n",
       "      <td>@rajasthanroyals @JofraArcher RCB winning IPL ...</td>\n",
       "      <td>Unknown</td>\n",
       "      <td>1581</td>\n",
       "      <td>83</td>\n",
       "      <td></td>\n",
       "      <td>False</td>\n",
       "      <td>1</td>\n",
       "      <td>0</td>\n",
       "      <td>2020-11-26 13:11:36</td>\n",
       "    </tr>\n",
       "    <tr>\n",
       "      <th>3</th>\n",
       "      <td>@rajasthanroyals @JofraArcher RCB won the IPL ...</td>\n",
       "      <td>Monika</td>\n",
       "      <td>8453</td>\n",
       "      <td>348</td>\n",
       "      <td>Ahmadabad City, India</td>\n",
       "      <td>False</td>\n",
       "      <td>4</td>\n",
       "      <td>0</td>\n",
       "      <td>2020-11-26 13:04:40</td>\n",
       "    </tr>\n",
       "    <tr>\n",
       "      <th>4</th>\n",
       "      <td>@Idlesam @7077673aio @Amush225 @ESPNcricinfo @...</td>\n",
       "      <td>Nagesh Nayak</td>\n",
       "      <td>2391</td>\n",
       "      <td>263</td>\n",
       "      <td>Florida, USA</td>\n",
       "      <td>False</td>\n",
       "      <td>0</td>\n",
       "      <td>0</td>\n",
       "      <td>2020-11-26 03:40:15</td>\n",
       "    </tr>\n",
       "  </tbody>\n",
       "</table>\n",
       "</div>"
      ],
      "text/plain": [
       "                                              Tweets          User  \\\n",
       "0  @rajasthanroyals @JofraArcher Congratulations ...        Jindal   \n",
       "1  @rajasthanroyals @JofraArcher Rcb winning ipl ...    jiya♡ // ✨   \n",
       "2  @rajasthanroyals @JofraArcher RCB winning IPL ...       Unknown   \n",
       "3  @rajasthanroyals @JofraArcher RCB won the IPL ...        Monika   \n",
       "4  @Idlesam @7077673aio @Amush225 @ESPNcricinfo @...  Nagesh Nayak   \n",
       "\n",
       "  User_statuses_count user_followers          User_location User_verified  \\\n",
       "0                  56             13                  India         False   \n",
       "1                7931            170                                False   \n",
       "2                1581             83                                False   \n",
       "3                8453            348  Ahmadabad City, India         False   \n",
       "4                2391            263           Florida, USA         False   \n",
       "\n",
       "  fav_count rt_count           tweet_date  \n",
       "0         2        0  2020-11-26 13:36:33  \n",
       "1         0        0  2020-11-26 13:28:04  \n",
       "2         1        0  2020-11-26 13:11:36  \n",
       "3         4        0  2020-11-26 13:04:40  \n",
       "4         0        0  2020-11-26 03:40:15  "
      ]
     },
     "execution_count": 11,
     "metadata": {},
     "output_type": "execute_result"
    }
   ],
   "source": [
    "df.head()"
   ]
  },
  {
   "cell_type": "code",
   "execution_count": 12,
   "metadata": {},
   "outputs": [
    {
     "name": "stdout",
     "output_type": "stream",
     "text": [
      "Collecting textblob\n",
      "  Downloading textblob-0.15.3-py2.py3-none-any.whl (636 kB)\n",
      "Requirement already satisfied: nltk>=3.1 in c:\\users\\user\\anaconda3\\lib\\site-packages (from textblob) (3.4.5)\n",
      "Requirement already satisfied: six in c:\\users\\user\\anaconda3\\lib\\site-packages (from nltk>=3.1->textblob) (1.14.0)\n",
      "Installing collected packages: textblob\n",
      "Successfully installed textblob-0.15.3\n"
     ]
    }
   ],
   "source": [
    "!pip install textblob"
   ]
  },
  {
   "cell_type": "raw",
   "metadata": {},
   "source": [
    "Sentiment(polarity, subjectivity)\n",
    "\n",
    "Polarity score: [-1 , +1]\n",
    "\n",
    "Subjectivity: [0.0 , 1.0] \n",
    "where 0.0 is very Objective and 1.0 is very Subjective."
   ]
  },
  {
   "cell_type": "code",
   "execution_count": 13,
   "metadata": {},
   "outputs": [],
   "source": [
    "from textblob import TextBlob"
   ]
  },
  {
   "cell_type": "code",
   "execution_count": 14,
   "metadata": {},
   "outputs": [],
   "source": [
    "import re\n",
    "def clean_tweet(tweet):\n",
    "    return ' '.join(re.sub('(@[A-Za-z0-9]+)|([^0-9A-Za-z \\t])|(\\w+:\\/\\/\\S+)', ' ', tweet).split())"
   ]
  },
  {
   "cell_type": "code",
   "execution_count": 15,
   "metadata": {},
   "outputs": [],
   "source": [
    "def analyze_sentiment(tweet):\n",
    "    analysis = TextBlob(tweet)\n",
    "    if analysis.sentiment.polarity > 0:\n",
    "        return 'Positive'\n",
    "    elif analysis.sentiment.polarity == 0:\n",
    "        return 'Neutral'\n",
    "    else:\n",
    "        return 'Negative'"
   ]
  },
  {
   "cell_type": "code",
   "execution_count": 16,
   "metadata": {},
   "outputs": [],
   "source": [
    "df['clean_tweet'] = df['Tweets'].apply(lambda x : clean_tweet(x))"
   ]
  },
  {
   "cell_type": "code",
   "execution_count": 17,
   "metadata": {},
   "outputs": [
    {
     "data": {
      "text/html": [
       "<div>\n",
       "<style scoped>\n",
       "    .dataframe tbody tr th:only-of-type {\n",
       "        vertical-align: middle;\n",
       "    }\n",
       "\n",
       "    .dataframe tbody tr th {\n",
       "        vertical-align: top;\n",
       "    }\n",
       "\n",
       "    .dataframe thead th {\n",
       "        text-align: right;\n",
       "    }\n",
       "</style>\n",
       "<table border=\"1\" class=\"dataframe\">\n",
       "  <thead>\n",
       "    <tr style=\"text-align: right;\">\n",
       "      <th></th>\n",
       "      <th>Tweets</th>\n",
       "      <th>User</th>\n",
       "      <th>User_statuses_count</th>\n",
       "      <th>user_followers</th>\n",
       "      <th>User_location</th>\n",
       "      <th>User_verified</th>\n",
       "      <th>fav_count</th>\n",
       "      <th>rt_count</th>\n",
       "      <th>tweet_date</th>\n",
       "      <th>clean_tweet</th>\n",
       "    </tr>\n",
       "  </thead>\n",
       "  <tbody>\n",
       "    <tr>\n",
       "      <th>0</th>\n",
       "      <td>@rajasthanroyals @JofraArcher Congratulations ...</td>\n",
       "      <td>Jindal</td>\n",
       "      <td>56</td>\n",
       "      <td>13</td>\n",
       "      <td>India</td>\n",
       "      <td>False</td>\n",
       "      <td>2</td>\n",
       "      <td>0</td>\n",
       "      <td>2020-11-26 13:36:33</td>\n",
       "      <td>Congratulations AB for winning man of the matc...</td>\n",
       "    </tr>\n",
       "    <tr>\n",
       "      <th>1</th>\n",
       "      <td>@rajasthanroyals @JofraArcher Rcb winning ipl ...</td>\n",
       "      <td>jiya♡ // ✨</td>\n",
       "      <td>7931</td>\n",
       "      <td>170</td>\n",
       "      <td></td>\n",
       "      <td>False</td>\n",
       "      <td>0</td>\n",
       "      <td>0</td>\n",
       "      <td>2020-11-26 13:28:04</td>\n",
       "      <td>Rcb winning ipl trophi es</td>\n",
       "    </tr>\n",
       "    <tr>\n",
       "      <th>2</th>\n",
       "      <td>@rajasthanroyals @JofraArcher RCB winning IPL ...</td>\n",
       "      <td>Unknown</td>\n",
       "      <td>1581</td>\n",
       "      <td>83</td>\n",
       "      <td></td>\n",
       "      <td>False</td>\n",
       "      <td>1</td>\n",
       "      <td>0</td>\n",
       "      <td>2020-11-26 13:11:36</td>\n",
       "      <td>RCB winning IPL 2021</td>\n",
       "    </tr>\n",
       "    <tr>\n",
       "      <th>3</th>\n",
       "      <td>@rajasthanroyals @JofraArcher RCB won the IPL ...</td>\n",
       "      <td>Monika</td>\n",
       "      <td>8453</td>\n",
       "      <td>348</td>\n",
       "      <td>Ahmadabad City, India</td>\n",
       "      <td>False</td>\n",
       "      <td>4</td>\n",
       "      <td>0</td>\n",
       "      <td>2020-11-26 13:04:40</td>\n",
       "      <td>RCB won the IPL trophy and it s Virat Kohli wh...</td>\n",
       "    </tr>\n",
       "    <tr>\n",
       "      <th>4</th>\n",
       "      <td>@Idlesam @7077673aio @Amush225 @ESPNcricinfo @...</td>\n",
       "      <td>Nagesh Nayak</td>\n",
       "      <td>2391</td>\n",
       "      <td>263</td>\n",
       "      <td>Florida, USA</td>\n",
       "      <td>False</td>\n",
       "      <td>0</td>\n",
       "      <td>0</td>\n",
       "      <td>2020-11-26 03:40:15</td>\n",
       "      <td>RCB spend the same and Kohli is highest priced...</td>\n",
       "    </tr>\n",
       "  </tbody>\n",
       "</table>\n",
       "</div>"
      ],
      "text/plain": [
       "                                              Tweets          User  \\\n",
       "0  @rajasthanroyals @JofraArcher Congratulations ...        Jindal   \n",
       "1  @rajasthanroyals @JofraArcher Rcb winning ipl ...    jiya♡ // ✨   \n",
       "2  @rajasthanroyals @JofraArcher RCB winning IPL ...       Unknown   \n",
       "3  @rajasthanroyals @JofraArcher RCB won the IPL ...        Monika   \n",
       "4  @Idlesam @7077673aio @Amush225 @ESPNcricinfo @...  Nagesh Nayak   \n",
       "\n",
       "  User_statuses_count user_followers          User_location User_verified  \\\n",
       "0                  56             13                  India         False   \n",
       "1                7931            170                                False   \n",
       "2                1581             83                                False   \n",
       "3                8453            348  Ahmadabad City, India         False   \n",
       "4                2391            263           Florida, USA         False   \n",
       "\n",
       "  fav_count rt_count           tweet_date  \\\n",
       "0         2        0  2020-11-26 13:36:33   \n",
       "1         0        0  2020-11-26 13:28:04   \n",
       "2         1        0  2020-11-26 13:11:36   \n",
       "3         4        0  2020-11-26 13:04:40   \n",
       "4         0        0  2020-11-26 03:40:15   \n",
       "\n",
       "                                         clean_tweet  \n",
       "0  Congratulations AB for winning man of the matc...  \n",
       "1                          Rcb winning ipl trophi es  \n",
       "2                               RCB winning IPL 2021  \n",
       "3  RCB won the IPL trophy and it s Virat Kohli wh...  \n",
       "4  RCB spend the same and Kohli is highest priced...  "
      ]
     },
     "execution_count": 17,
     "metadata": {},
     "output_type": "execute_result"
    }
   ],
   "source": [
    "df.head()"
   ]
  },
  {
   "cell_type": "code",
   "execution_count": 18,
   "metadata": {},
   "outputs": [
    {
     "data": {
      "text/html": [
       "<div>\n",
       "<style scoped>\n",
       "    .dataframe tbody tr th:only-of-type {\n",
       "        vertical-align: middle;\n",
       "    }\n",
       "\n",
       "    .dataframe tbody tr th {\n",
       "        vertical-align: top;\n",
       "    }\n",
       "\n",
       "    .dataframe thead th {\n",
       "        text-align: right;\n",
       "    }\n",
       "</style>\n",
       "<table border=\"1\" class=\"dataframe\">\n",
       "  <thead>\n",
       "    <tr style=\"text-align: right;\">\n",
       "      <th></th>\n",
       "      <th>Tweets</th>\n",
       "      <th>User</th>\n",
       "      <th>User_statuses_count</th>\n",
       "      <th>user_followers</th>\n",
       "      <th>User_location</th>\n",
       "      <th>User_verified</th>\n",
       "      <th>fav_count</th>\n",
       "      <th>rt_count</th>\n",
       "      <th>tweet_date</th>\n",
       "      <th>clean_tweet</th>\n",
       "      <th>Sentiment</th>\n",
       "    </tr>\n",
       "  </thead>\n",
       "  <tbody>\n",
       "    <tr>\n",
       "      <th>0</th>\n",
       "      <td>@rajasthanroyals @JofraArcher Congratulations ...</td>\n",
       "      <td>Jindal</td>\n",
       "      <td>56</td>\n",
       "      <td>13</td>\n",
       "      <td>India</td>\n",
       "      <td>False</td>\n",
       "      <td>2</td>\n",
       "      <td>0</td>\n",
       "      <td>2020-11-26 13:36:33</td>\n",
       "      <td>Congratulations AB for winning man of the matc...</td>\n",
       "      <td>Positive</td>\n",
       "    </tr>\n",
       "    <tr>\n",
       "      <th>1</th>\n",
       "      <td>@rajasthanroyals @JofraArcher Rcb winning ipl ...</td>\n",
       "      <td>jiya♡ // ✨</td>\n",
       "      <td>7931</td>\n",
       "      <td>170</td>\n",
       "      <td></td>\n",
       "      <td>False</td>\n",
       "      <td>0</td>\n",
       "      <td>0</td>\n",
       "      <td>2020-11-26 13:28:04</td>\n",
       "      <td>Rcb winning ipl trophi es</td>\n",
       "      <td>Positive</td>\n",
       "    </tr>\n",
       "    <tr>\n",
       "      <th>2</th>\n",
       "      <td>@rajasthanroyals @JofraArcher RCB winning IPL ...</td>\n",
       "      <td>Unknown</td>\n",
       "      <td>1581</td>\n",
       "      <td>83</td>\n",
       "      <td></td>\n",
       "      <td>False</td>\n",
       "      <td>1</td>\n",
       "      <td>0</td>\n",
       "      <td>2020-11-26 13:11:36</td>\n",
       "      <td>RCB winning IPL 2021</td>\n",
       "      <td>Positive</td>\n",
       "    </tr>\n",
       "    <tr>\n",
       "      <th>3</th>\n",
       "      <td>@rajasthanroyals @JofraArcher RCB won the IPL ...</td>\n",
       "      <td>Monika</td>\n",
       "      <td>8453</td>\n",
       "      <td>348</td>\n",
       "      <td>Ahmadabad City, India</td>\n",
       "      <td>False</td>\n",
       "      <td>4</td>\n",
       "      <td>0</td>\n",
       "      <td>2020-11-26 13:04:40</td>\n",
       "      <td>RCB won the IPL trophy and it s Virat Kohli wh...</td>\n",
       "      <td>Positive</td>\n",
       "    </tr>\n",
       "    <tr>\n",
       "      <th>4</th>\n",
       "      <td>@Idlesam @7077673aio @Amush225 @ESPNcricinfo @...</td>\n",
       "      <td>Nagesh Nayak</td>\n",
       "      <td>2391</td>\n",
       "      <td>263</td>\n",
       "      <td>Florida, USA</td>\n",
       "      <td>False</td>\n",
       "      <td>0</td>\n",
       "      <td>0</td>\n",
       "      <td>2020-11-26 03:40:15</td>\n",
       "      <td>RCB spend the same and Kohli is highest priced...</td>\n",
       "      <td>Neutral</td>\n",
       "    </tr>\n",
       "  </tbody>\n",
       "</table>\n",
       "</div>"
      ],
      "text/plain": [
       "                                              Tweets          User  \\\n",
       "0  @rajasthanroyals @JofraArcher Congratulations ...        Jindal   \n",
       "1  @rajasthanroyals @JofraArcher Rcb winning ipl ...    jiya♡ // ✨   \n",
       "2  @rajasthanroyals @JofraArcher RCB winning IPL ...       Unknown   \n",
       "3  @rajasthanroyals @JofraArcher RCB won the IPL ...        Monika   \n",
       "4  @Idlesam @7077673aio @Amush225 @ESPNcricinfo @...  Nagesh Nayak   \n",
       "\n",
       "  User_statuses_count user_followers          User_location User_verified  \\\n",
       "0                  56             13                  India         False   \n",
       "1                7931            170                                False   \n",
       "2                1581             83                                False   \n",
       "3                8453            348  Ahmadabad City, India         False   \n",
       "4                2391            263           Florida, USA         False   \n",
       "\n",
       "  fav_count rt_count           tweet_date  \\\n",
       "0         2        0  2020-11-26 13:36:33   \n",
       "1         0        0  2020-11-26 13:28:04   \n",
       "2         1        0  2020-11-26 13:11:36   \n",
       "3         4        0  2020-11-26 13:04:40   \n",
       "4         0        0  2020-11-26 03:40:15   \n",
       "\n",
       "                                         clean_tweet Sentiment  \n",
       "0  Congratulations AB for winning man of the matc...  Positive  \n",
       "1                          Rcb winning ipl trophi es  Positive  \n",
       "2                               RCB winning IPL 2021  Positive  \n",
       "3  RCB won the IPL trophy and it s Virat Kohli wh...  Positive  \n",
       "4  RCB spend the same and Kohli is highest priced...   Neutral  "
      ]
     },
     "execution_count": 18,
     "metadata": {},
     "output_type": "execute_result"
    }
   ],
   "source": [
    "df['Sentiment'] = df['clean_tweet'].apply(lambda x : analyze_sentiment(x) )\n",
    "df.head()"
   ]
  },
  {
   "cell_type": "code",
   "execution_count": 19,
   "metadata": {},
   "outputs": [
    {
     "name": "stdout",
     "output_type": "stream",
     "text": [
      "Original tweet:\n",
      " @rajasthanroyals @JofraArcher Rcb winning ipl trophi-es 👀👍\n",
      "\n",
      "Clean tweet:\n",
      " Rcb winning ipl trophi es\n",
      "\n",
      "Sentiment of the tweet:\n",
      " Positive\n"
     ]
    }
   ],
   "source": [
    "n = 1\n",
    "print(\"Original tweet:\\n\",df['Tweets'][n])\n",
    "print()\n",
    "print(\"Clean tweet:\\n\",df['clean_tweet'][n])\n",
    "print()\n",
    "print(\"Sentiment of the tweet:\\n\",df['Sentiment'][n])"
   ]
  },
  {
   "cell_type": "code",
   "execution_count": 20,
   "metadata": {},
   "outputs": [
    {
     "name": "stdout",
     "output_type": "stream",
     "text": [
      "Original tweet:\n",
      " Yaa.. 2021 will be the healing year!!! \n",
      "RCB winning IPL,\n",
      "Popatlal getting married,\n",
      "increment in Natu kaka's salary,… https://t.co/wunO4QeIcY\n",
      "\n",
      "Clean tweet:\n",
      " Yaa 2021 will be the healing year RCB winning IPL Popatlal getting married increment in Natu kaka s salary\n",
      "\n",
      "Sentiment of the tweet:\n",
      " Positive\n"
     ]
    }
   ],
   "source": [
    "n = 20\n",
    "print(\"Original tweet:\\n\",df['Tweets'][n])\n",
    "print()\n",
    "print(\"Clean tweet:\\n\",df['clean_tweet'][n])\n",
    "print()\n",
    "print(\"Sentiment of the tweet:\\n\",df['Sentiment'][n])"
   ]
  },
  {
   "cell_type": "code",
   "execution_count": 29,
   "metadata": {},
   "outputs": [
    {
     "name": "stdout",
     "output_type": "stream",
     "text": [
      "Original tweet:\n",
      " @VamosVirat @HPrisom @riyanparagfan @mufaddal_vohra There is something known as brand. Apart from MI, RCB, everyone… https://t.co/de8KmkipHr\n",
      "\n",
      "Clean tweet:\n",
      " vohra There is something known as brand Apart from MI RCB everyone\n",
      "\n",
      "Sentiment of the tweet:\n",
      " Neutral\n"
     ]
    }
   ],
   "source": [
    "n = 36\n",
    "print(\"Original tweet:\\n\",df['Tweets'][n])\n",
    "print()\n",
    "print(\"Clean tweet:\\n\",df['clean_tweet'][n])\n",
    "print()\n",
    "print(\"Sentiment of the tweet:\\n\",df['Sentiment'][n])"
   ]
  },
  {
   "cell_type": "code",
   "execution_count": 23,
   "metadata": {},
   "outputs": [
    {
     "data": {
      "text/plain": [
       "29"
      ]
     },
     "execution_count": 23,
     "metadata": {},
     "output_type": "execute_result"
    }
   ],
   "source": [
    "df[df.Sentiment == 'Positive'].shape[0]"
   ]
  },
  {
   "cell_type": "code",
   "execution_count": 24,
   "metadata": {},
   "outputs": [
    {
     "data": {
      "text/plain": [
       "4"
      ]
     },
     "execution_count": 24,
     "metadata": {},
     "output_type": "execute_result"
    }
   ],
   "source": [
    "df[df.Sentiment == 'Neutral'].shape[0]"
   ]
  },
  {
   "cell_type": "code",
   "execution_count": 25,
   "metadata": {},
   "outputs": [
    {
     "data": {
      "text/plain": [
       "4"
      ]
     },
     "execution_count": 25,
     "metadata": {},
     "output_type": "execute_result"
    }
   ],
   "source": [
    "df[df.Sentiment == 'Negative'].shape[0]"
   ]
  },
  {
   "cell_type": "code",
   "execution_count": null,
   "metadata": {},
   "outputs": [],
   "source": []
  }
 ],
 "metadata": {
  "kernelspec": {
   "display_name": "Python 3",
   "language": "python",
   "name": "python3"
  },
  "language_info": {
   "codemirror_mode": {
    "name": "ipython",
    "version": 3
   },
   "file_extension": ".py",
   "mimetype": "text/x-python",
   "name": "python",
   "nbconvert_exporter": "python",
   "pygments_lexer": "ipython3",
   "version": "3.7.6"
  },
  "toc": {
   "base_numbering": 1,
   "nav_menu": {},
   "number_sections": true,
   "sideBar": true,
   "skip_h1_title": false,
   "title_cell": "Table of Contents",
   "title_sidebar": "Contents",
   "toc_cell": false,
   "toc_position": {},
   "toc_section_display": true,
   "toc_window_display": false
  }
 },
 "nbformat": 4,
 "nbformat_minor": 4
}
